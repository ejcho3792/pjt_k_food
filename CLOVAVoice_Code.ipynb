{
  "nbformat": 4,
  "nbformat_minor": 0,
  "metadata": {
    "colab": {
      "name": "CLOVAVoice_Code.ipynb",
      "provenance": [],
      "collapsed_sections": []
    },
    "kernelspec": {
      "name": "python3",
      "display_name": "Python 3"
    },
    "language_info": {
      "name": "python"
    }
  },
  "cells": [
    {
      "cell_type": "code",
      "source": [
        "import os\n",
        "import sys\n",
        "import urllib.request\n",
        "client_id = \"fr2pmzwe08\"\n",
        "client_secret = \"uzTbsKj83c57qTJNlHRbeIsTiwDdVoZLKDod8UBh\"\n",
        "encText = urllib.parse.quote(\"반갑습니다 네이버\") # 음식이름 변수 넣어주기\n",
        "data = \"speaker=nara&volume=0&speed=0&pitch=0&format=mp3&text=\" + encText;\n",
        "url = \"https://naveropenapi.apigw.ntruss.com/tts-premium/v1/tts\"\n",
        "request = urllib.request.Request(url)\n",
        "request.add_header(\"X-NCP-APIGW-API-KEY-ID\",client_id)\n",
        "request.add_header(\"X-NCP-APIGW-API-KEY\",client_secret)\n",
        "response = urllib.request.urlopen(request, data=data.encode('utf-8'))\n",
        "rescode = response.getcode()\n",
        "if(rescode==200):\n",
        "    print(\"TTS mp3 저장\") # 변환완료시 출력 메시지\n",
        "    response_body = response.read()\n",
        "    with open('1111.mp3', 'wb') as f: # mp3 파일명 변경필요\n",
        "        f.write(response_body)\n",
        "else:\n",
        "    print(\"Error Code:\" + rescode)"
      ],
      "metadata": {
        "id": "RXoLCRNpey3G",
        "colab": {
          "base_uri": "https://localhost:8080/"
        },
        "outputId": "b2284943-d854-43c9-8bdb-b7dd183e2ea0"
      },
      "execution_count": null,
      "outputs": [
        {
          "output_type": "stream",
          "name": "stdout",
          "text": [
            "TTS mp3 저장\n"
          ]
        }
      ]
    },
    {
      "cell_type": "code",
      "source": [
        ""
      ],
      "metadata": {
        "id": "hfeAEHbrxavR"
      },
      "execution_count": null,
      "outputs": []
    }
  ]
}