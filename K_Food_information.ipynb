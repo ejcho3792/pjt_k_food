{
 "cells": [
  {
   "cell_type": "code",
   "execution_count": 1,
   "metadata": {
    "id": "hTzMY_oeI3wQ"
   },
   "outputs": [],
   "source": [
    "import numpy as np\n",
    "import pandas as pd"
   ]
  },
  {
   "cell_type": "code",
   "execution_count": 2,
   "metadata": {
    "id": "NcZdab5RJCu8"
   },
   "outputs": [],
   "source": [
    "data = pd.read_csv('./K-Food_info.csv', encoding = 'cp949', index_col='음식명').drop('구분', axis = 1).fillna('No data')"
   ]
  },
  {
   "cell_type": "code",
   "execution_count": 3,
   "metadata": {
    "id": "fgGw0e7uaiVG"
   },
   "outputs": [],
   "source": [
    "data2 = pd.read_csv('./K-Food_Recipe.csv', encoding='cp949', index_col='RECIPE_NM_KO')"
   ]
  },
  {
   "cell_type": "code",
   "execution_count": 4,
   "metadata": {
    "id": "aJ3K9sMSbO2q"
   },
   "outputs": [],
   "source": [
    "data3 = pd.read_csv('./recipe_resource.csv', encoding='cp949').drop(['IRDNT_SN', 'IRDNT_CPCTY', 'IRDNT_TY_CODE', 'IRDNT_TY_NM'], axis = 1)"
   ]
  },
  {
   "cell_type": "code",
   "execution_count": 5,
   "metadata": {},
   "outputs": [],
   "source": [
    "Allergie = {'메밀': ['메밀', '메밀가루'],\n",
    "            '밀': ['밀가루', '밀', '강력분', '박력분', '중력분', '빵', '부침가루', '바게트', '칼국수', '국수', '소면', '면', '쫄면', '라면'],\n",
    "            '대두': ['두부', '어묵', '콩나물'],\n",
    "            '호두': ['호두'],\n",
    "            '땅콩': ['땅콩', '땅콩버터'],\n",
    "            '복숭아': ['복숭아'],\n",
    "            '게': ['꽃게', '참게', '대게', '킹크랩'],\n",
    "            '고등어': ['고등어'],\n",
    "            '토마토': ['토마토'],\n",
    "            '돼지고기': ['돼지고기', '갈비', '다진돼지고기', '베이컨', '돼지고기육수', '삼겹살'],\n",
    "            '계란': ['계란', '달걀'],\n",
    "            '우유': ['우유', '치즈', '치즈가루', '모짜렐라치즈'],\n",
    "            '닭고기': ['닭고기'],\n",
    "            '쇠고기': ['쇠고기', '소고기', '갈비', '쇠고기육수', '양지머리', '안심', '등심'],\n",
    "            '새우': ['새우', '대하', '건새우', '새우젓'],\n",
    "            '홍합': ['홍합'],\n",
    "            '전복': ['전복'],\n",
    "            '굴': ['굴', '굴소스'],\n",
    "            '조개류': ['바지락', '꼬막', '골뱅이', '소라'],\n",
    "            '오징어': ['오징어', '진미채', '오징어젓갈'],\n",
    "            '아황산': ['소시지', '소세지', '햄', '스팸', '육포','베이컨']}"
   ]
  },
  {
   "cell_type": "markdown",
   "metadata": {},
   "source": [
    "# 음식정보"
   ]
  },
  {
   "cell_type": "code",
   "execution_count": 6,
   "metadata": {
    "id": "nCqp05kZJkoX"
   },
   "outputs": [],
   "source": [
    "def food_en(name):\n",
    "    try:\n",
    "        food_name = name\n",
    "        food_name_en = data.loc[name]['영문']\n",
    "        food_info_en = data.loc[name]['음식설명']\n",
    "\n",
    "        print('요리명 :', food_name)\n",
    "        print('요리명(영문) :', food_name_en)\n",
    "        print('요리설명(영문) :',food_info_en)\n",
    "    except:\n",
    "        print('요리를 찾지 못했습니다.')"
   ]
  },
  {
   "cell_type": "code",
   "execution_count": 7,
   "metadata": {
    "colab": {
     "base_uri": "https://localhost:8080/"
    },
    "id": "ftqmwgpvU2Xp",
    "outputId": "147d5d8a-713b-4809-ed7b-75e2c16aeff4",
    "scrolled": true
   },
   "outputs": [
    {
     "name": "stdout",
     "output_type": "stream",
     "text": [
      "요리명 : 갈치구이\n",
      "요리명(영문) : Grilled Hairtail\n",
      "요리설명(영문) : Hairtail (a long, flat silver fish) cut into 10 centimeter lengths and grilled with salt.\n"
     ]
    }
   ],
   "source": [
    "food_en('갈치구이')"
   ]
  },
  {
   "cell_type": "markdown",
   "metadata": {},
   "source": [
    "# 알레르기정보"
   ]
  },
  {
   "cell_type": "code",
   "execution_count": 8,
   "metadata": {
    "id": "Rl2F2z7matdK"
   },
   "outputs": [],
   "source": [
    "def food_resource(name):\n",
    "    try:\n",
    "        rc_no = int(data2.loc[name]['RECIPE_ID'])\n",
    "        result = data3[data3.RECIPE_ID == rc_no]['IRDNT_NM'].tolist()\n",
    "\n",
    "        print('요리재료 :', result)\n",
    "    except:\n",
    "        print('레시피를 찾을 수 없습니다.')\n",
    "        \n",
    "    try:\n",
    "        alwar = set()\n",
    "        for key, value in Allergie.items():\n",
    "            alsource = set(value) & set(result)\n",
    "            if alsource != set():\n",
    "                alwar = alwar | alsource\n",
    "            else:\n",
    "                pass\n",
    "    except:\n",
    "        pass\n",
    "    \n",
    "    try:\n",
    "        keys = []\n",
    "        for key, value in Allergie.items():\n",
    "            if alwar & set(value) != set():\n",
    "                keys.append(key)\n",
    "                \n",
    "        print('※경고 : 알레르기 유발물질 {} 포함'.format(keys))\n",
    "    except:\n",
    "        pass"
   ]
  },
  {
   "cell_type": "code",
   "execution_count": 9,
   "metadata": {
    "colab": {
     "base_uri": "https://localhost:8080/"
    },
    "id": "9BEc5FEcgnYw",
    "outputId": "92f4ac6f-621a-4200-fa6a-12c390d529c4",
    "scrolled": true
   },
   "outputs": [
    {
     "name": "stdout",
     "output_type": "stream",
     "text": [
      "요리재료 : ['쇠고기', '대파', '마늘', '생강', '물', '계란', '홍고추', '진간장', '설탕', '참기름']\n",
      "※경고 : 알레르기 유발물질 ['계란', '쇠고기'] 포함\n"
     ]
    }
   ],
   "source": [
    "food_resource('장조림')"
   ]
  },
  {
   "cell_type": "markdown",
   "metadata": {},
   "source": [
    "# 음식정보[최종]"
   ]
  },
  {
   "cell_type": "code",
   "execution_count": 10,
   "metadata": {
    "id": "6kWiw1uOj6Vw"
   },
   "outputs": [],
   "source": [
    "def food_info(name):\n",
    "    food_en(name)\n",
    "    food_resource(name)"
   ]
  },
  {
   "cell_type": "code",
   "execution_count": 11,
   "metadata": {
    "colab": {
     "base_uri": "https://localhost:8080/"
    },
    "id": "ECx8nNTFkt6C",
    "outputId": "4ee9ca8d-4d8d-4d44-e8a2-49794ab2fbf3"
   },
   "outputs": [
    {
     "name": "stdout",
     "output_type": "stream",
     "text": [
      "요리명 : 비빔밥\n",
      "요리명(영문) : Bibimbap (Rice Mixed with Vegetables and Beef)\n",
      "요리설명(영문) : One of the most popular Korean dishes, bibimbap consists of a bowl of rice topped with fresh and cooked vegetables and red chili pepper paste. Everything is mixed together before eating. Seasoned raw beef, grilled beef, or a fried egg can also be added. There are many styles and regional variations of this dish. The cities of Jeonju and Jinju are famous for their distinctive bibimbap and there are other variations such as hot stone pot (dolsot) bibimbap, soybean sprout bibimbap, and vegetable bibimbap. Goldongban is the royal court term for bibimbap.\n",
      "요리재료 : ['쌀', '안심', '콩나물', '청포묵', '미나리', '소금', '국간장', '다진파', '다진마늘', '참기름', '고추장', '설탕', '숙주', '도라지', '고사리', '계란', '양지머리']\n",
      "※경고 : 알레르기 유발물질 ['대두', '계란', '쇠고기'] 포함\n"
     ]
    }
   ],
   "source": [
    "food_info('비빔밥')"
   ]
  },
  {
   "cell_type": "code",
   "execution_count": null,
   "metadata": {},
   "outputs": [],
   "source": []
  }
 ],
 "metadata": {
  "colab": {
   "collapsed_sections": [],
   "name": "K-Food information.ipynb",
   "provenance": []
  },
  "kernelspec": {
   "display_name": "Python 3 (ipykernel)",
   "language": "python",
   "name": "python3"
  },
  "language_info": {
   "codemirror_mode": {
    "name": "ipython",
    "version": 3
   },
   "file_extension": ".py",
   "mimetype": "text/x-python",
   "name": "python",
   "nbconvert_exporter": "python",
   "pygments_lexer": "ipython3",
   "version": "3.9.7"
  }
 },
 "nbformat": 4,
 "nbformat_minor": 1
}
