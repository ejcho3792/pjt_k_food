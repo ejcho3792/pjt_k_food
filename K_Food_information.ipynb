{
  "cells": [
    {
      "cell_type": "code",
      "execution_count": 1,
      "metadata": {
        "id": "hTzMY_oeI3wQ"
      },
      "outputs": [],
      "source": [
        "import numpy as np\n",
        "import pandas as pd"
      ]
    },
    {
      "cell_type": "code",
      "execution_count": 2,
      "metadata": {
        "id": "NcZdab5RJCu8"
      },
      "outputs": [],
      "source": [
        "data = pd.read_csv('./K-Food_info.csv', encoding = 'cp949')"
      ]
    },
    {
      "cell_type": "code",
      "execution_count": 3,
      "metadata": {
        "id": "do6AEHdyJaDk"
      },
      "outputs": [],
      "source": [
        "data = data.drop('구분', axis = 1)"
      ]
    },
    {
      "cell_type": "code",
      "execution_count": 4,
      "metadata": {
        "id": "HRR6aAz7UF-k"
      },
      "outputs": [],
      "source": [
        "data = data.set_index('음식명')"
      ]
    },
    {
      "cell_type": "code",
      "execution_count": 5,
      "metadata": {
        "id": "LvDtGQ6vUGDT"
      },
      "outputs": [],
      "source": [
        "data = data.fillna('No data')"
      ]
    },
    {
      "cell_type": "code",
      "execution_count": 6,
      "metadata": {
        "colab": {
          "base_uri": "https://localhost:8080/",
          "height": 455
        },
        "id": "xIpttFKGd4hn",
        "outputId": "b099e6f6-2710-47b9-81b5-16bac9c63400"
      },
      "outputs": [
        {
          "data": {
            "text/html": [
              "\n",
              "  <div id=\"df-9bbf9470-e30b-4b44-83ef-c6794ed6b000\">\n",
              "    <div class=\"colab-df-container\">\n",
              "      <div>\n",
              "<style scoped>\n",
              "    .dataframe tbody tr th:only-of-type {\n",
              "        vertical-align: middle;\n",
              "    }\n",
              "\n",
              "    .dataframe tbody tr th {\n",
              "        vertical-align: top;\n",
              "    }\n",
              "\n",
              "    .dataframe thead th {\n",
              "        text-align: right;\n",
              "    }\n",
              "</style>\n",
              "<table border=\"1\" class=\"dataframe\">\n",
              "  <thead>\n",
              "    <tr style=\"text-align: right;\">\n",
              "      <th></th>\n",
              "      <th>순서</th>\n",
              "      <th>영문</th>\n",
              "      <th>음식설명</th>\n",
              "    </tr>\n",
              "    <tr>\n",
              "      <th>음식명</th>\n",
              "      <th></th>\n",
              "      <th></th>\n",
              "      <th></th>\n",
              "    </tr>\n",
              "  </thead>\n",
              "  <tbody>\n",
              "    <tr>\n",
              "      <th>가지볶음</th>\n",
              "      <td>1</td>\n",
              "      <td>stir-fried Eggplant</td>\n",
              "      <td>Lightly salted eggplant stir-fried with minced...</td>\n",
              "    </tr>\n",
              "    <tr>\n",
              "      <th>간장게장</th>\n",
              "      <td>2</td>\n",
              "      <td>Crab Marinated in Soy Sauce</td>\n",
              "      <td>A marinated crab dish. The crab is marinated f...</td>\n",
              "    </tr>\n",
              "    <tr>\n",
              "      <th>갈비구이</th>\n",
              "      <td>3</td>\n",
              "      <td>Marinated and Grilled Beef Short Ribs</td>\n",
              "      <td>Beef short ribs marinated in a mixture of soy ...</td>\n",
              "    </tr>\n",
              "    <tr>\n",
              "      <th>갈비찜</th>\n",
              "      <td>4</td>\n",
              "      <td>Braised Short Ribs</td>\n",
              "      <td>Beef short ribs cut into chunks, seasoned with...</td>\n",
              "    </tr>\n",
              "    <tr>\n",
              "      <th>갈비탕</th>\n",
              "      <td>5</td>\n",
              "      <td>Short Rib Soup</td>\n",
              "      <td>No data</td>\n",
              "    </tr>\n",
              "    <tr>\n",
              "      <th>...</th>\n",
              "      <td>...</td>\n",
              "      <td>...</td>\n",
              "      <td>...</td>\n",
              "    </tr>\n",
              "    <tr>\n",
              "      <th>홍어무침</th>\n",
              "      <td>145</td>\n",
              "      <td>Sliced Raw Skate Salad</td>\n",
              "      <td>Cut the skate and season it with vegetables an...</td>\n",
              "    </tr>\n",
              "    <tr>\n",
              "      <th>황태구이</th>\n",
              "      <td>146</td>\n",
              "      <td>Seasoned and Grilled Dried Pollack</td>\n",
              "      <td>Freeze-dried pollack grilled with a seasoning ...</td>\n",
              "    </tr>\n",
              "    <tr>\n",
              "      <th>회무침</th>\n",
              "      <td>147</td>\n",
              "      <td>Spicy Raw Fish Salad</td>\n",
              "      <td>Season sashimi with vegetables and spicy sauce.</td>\n",
              "    </tr>\n",
              "    <tr>\n",
              "      <th>후라이드치킨</th>\n",
              "      <td>148</td>\n",
              "      <td>Fried chicken</td>\n",
              "      <td>Coat the fried chicken with seasoned batter an...</td>\n",
              "    </tr>\n",
              "    <tr>\n",
              "      <th>훈제오리</th>\n",
              "      <td>149</td>\n",
              "      <td>Smoked Duck</td>\n",
              "      <td>smoked duck with soft, low calories</td>\n",
              "    </tr>\n",
              "  </tbody>\n",
              "</table>\n",
              "<p>149 rows × 3 columns</p>\n",
              "</div>\n",
              "      <button class=\"colab-df-convert\" onclick=\"convertToInteractive('df-9bbf9470-e30b-4b44-83ef-c6794ed6b000')\"\n",
              "              title=\"Convert this dataframe to an interactive table.\"\n",
              "              style=\"display:none;\">\n",
              "        \n",
              "  <svg xmlns=\"http://www.w3.org/2000/svg\" height=\"24px\"viewBox=\"0 0 24 24\"\n",
              "       width=\"24px\">\n",
              "    <path d=\"M0 0h24v24H0V0z\" fill=\"none\"/>\n",
              "    <path d=\"M18.56 5.44l.94 2.06.94-2.06 2.06-.94-2.06-.94-.94-2.06-.94 2.06-2.06.94zm-11 1L8.5 8.5l.94-2.06 2.06-.94-2.06-.94L8.5 2.5l-.94 2.06-2.06.94zm10 10l.94 2.06.94-2.06 2.06-.94-2.06-.94-.94-2.06-.94 2.06-2.06.94z\"/><path d=\"M17.41 7.96l-1.37-1.37c-.4-.4-.92-.59-1.43-.59-.52 0-1.04.2-1.43.59L10.3 9.45l-7.72 7.72c-.78.78-.78 2.05 0 2.83L4 21.41c.39.39.9.59 1.41.59.51 0 1.02-.2 1.41-.59l7.78-7.78 2.81-2.81c.8-.78.8-2.07 0-2.86zM5.41 20L4 18.59l7.72-7.72 1.47 1.35L5.41 20z\"/>\n",
              "  </svg>\n",
              "      </button>\n",
              "      \n",
              "  <style>\n",
              "    .colab-df-container {\n",
              "      display:flex;\n",
              "      flex-wrap:wrap;\n",
              "      gap: 12px;\n",
              "    }\n",
              "\n",
              "    .colab-df-convert {\n",
              "      background-color: #E8F0FE;\n",
              "      border: none;\n",
              "      border-radius: 50%;\n",
              "      cursor: pointer;\n",
              "      display: none;\n",
              "      fill: #1967D2;\n",
              "      height: 32px;\n",
              "      padding: 0 0 0 0;\n",
              "      width: 32px;\n",
              "    }\n",
              "\n",
              "    .colab-df-convert:hover {\n",
              "      background-color: #E2EBFA;\n",
              "      box-shadow: 0px 1px 2px rgba(60, 64, 67, 0.3), 0px 1px 3px 1px rgba(60, 64, 67, 0.15);\n",
              "      fill: #174EA6;\n",
              "    }\n",
              "\n",
              "    [theme=dark] .colab-df-convert {\n",
              "      background-color: #3B4455;\n",
              "      fill: #D2E3FC;\n",
              "    }\n",
              "\n",
              "    [theme=dark] .colab-df-convert:hover {\n",
              "      background-color: #434B5C;\n",
              "      box-shadow: 0px 1px 3px 1px rgba(0, 0, 0, 0.15);\n",
              "      filter: drop-shadow(0px 1px 2px rgba(0, 0, 0, 0.3));\n",
              "      fill: #FFFFFF;\n",
              "    }\n",
              "  </style>\n",
              "\n",
              "      <script>\n",
              "        const buttonEl =\n",
              "          document.querySelector('#df-9bbf9470-e30b-4b44-83ef-c6794ed6b000 button.colab-df-convert');\n",
              "        buttonEl.style.display =\n",
              "          google.colab.kernel.accessAllowed ? 'block' : 'none';\n",
              "\n",
              "        async function convertToInteractive(key) {\n",
              "          const element = document.querySelector('#df-9bbf9470-e30b-4b44-83ef-c6794ed6b000');\n",
              "          const dataTable =\n",
              "            await google.colab.kernel.invokeFunction('convertToInteractive',\n",
              "                                                     [key], {});\n",
              "          if (!dataTable) return;\n",
              "\n",
              "          const docLinkHtml = 'Like what you see? Visit the ' +\n",
              "            '<a target=\"_blank\" href=https://colab.research.google.com/notebooks/data_table.ipynb>data table notebook</a>'\n",
              "            + ' to learn more about interactive tables.';\n",
              "          element.innerHTML = '';\n",
              "          dataTable['output_type'] = 'display_data';\n",
              "          await google.colab.output.renderOutput(dataTable, element);\n",
              "          const docLink = document.createElement('div');\n",
              "          docLink.innerHTML = docLinkHtml;\n",
              "          element.appendChild(docLink);\n",
              "        }\n",
              "      </script>\n",
              "    </div>\n",
              "  </div>\n",
              "  "
            ],
            "text/plain": [
              "         순서                                     영문  \\\n",
              "음식명                                                  \n",
              "가지볶음      1                    stir-fried Eggplant   \n",
              "간장게장      2            Crab Marinated in Soy Sauce   \n",
              "갈비구이      3  Marinated and Grilled Beef Short Ribs   \n",
              "갈비찜       4                     Braised Short Ribs   \n",
              "갈비탕       5                         Short Rib Soup   \n",
              "...     ...                                    ...   \n",
              "홍어무침    145                 Sliced Raw Skate Salad   \n",
              "황태구이    146     Seasoned and Grilled Dried Pollack   \n",
              "회무침     147                   Spicy Raw Fish Salad   \n",
              "후라이드치킨  148                          Fried chicken   \n",
              "훈제오리    149                            Smoked Duck   \n",
              "\n",
              "                                                     음식설명  \n",
              "음식명                                                        \n",
              "가지볶음    Lightly salted eggplant stir-fried with minced...  \n",
              "간장게장    A marinated crab dish. The crab is marinated f...  \n",
              "갈비구이    Beef short ribs marinated in a mixture of soy ...  \n",
              "갈비찜     Beef short ribs cut into chunks, seasoned with...  \n",
              "갈비탕                                               No data  \n",
              "...                                                   ...  \n",
              "홍어무침    Cut the skate and season it with vegetables an...  \n",
              "황태구이    Freeze-dried pollack grilled with a seasoning ...  \n",
              "회무침       Season sashimi with vegetables and spicy sauce.  \n",
              "후라이드치킨  Coat the fried chicken with seasoned batter an...  \n",
              "훈제오리                  smoked duck with soft, low calories  \n",
              "\n",
              "[149 rows x 3 columns]"
            ]
          },
          "execution_count": 6,
          "metadata": {},
          "output_type": "execute_result"
        }
      ],
      "source": [
        "data"
      ]
    },
    {
      "cell_type": "code",
      "execution_count": 7,
      "metadata": {
        "id": "nCqp05kZJkoX"
      },
      "outputs": [],
      "source": [
        "def food_en(name):\n",
        "  try:\n",
        "    food_name = name\n",
        "    food_name_en = data.loc[name]['영문']\n",
        "    food_info_en = data.loc[name]['음식설명']\n",
        "    \n",
        "    print('요리명 :', food_name)\n",
        "    print('요리명(영문) :', food_name_en)\n",
        "    print('요리설명(영문) :',food_info_en)\n",
        "  except:\n",
        "    print('요리를 찾지 못했습니다.')"
      ]
    },
    {
      "cell_type": "code",
      "execution_count": 8,
      "metadata": {
        "colab": {
          "base_uri": "https://localhost:8080/"
        },
        "id": "ftqmwgpvU2Xp",
        "outputId": "147d5d8a-713b-4809-ed7b-75e2c16aeff4"
      },
      "outputs": [
        {
          "name": "stdout",
          "output_type": "stream",
          "text": [
            "요리명 : 갈치구이\n",
            "요리명(영문) : Grilled Hairtail\n",
            "요리설명(영문) : Hairtail (a long, flat silver fish) cut into 10 centimeter lengths and grilled with salt.\n"
          ]
        }
      ],
      "source": [
        "food_en('갈치구이')"
      ]
    },
    {
      "cell_type": "code",
      "execution_count": 12,
      "metadata": {
        "id": "fgGw0e7uaiVG"
      },
      "outputs": [],
      "source": [
        "data2 = pd.read_csv('./K-Food_Recipe.csv', encoding='cp949')"
      ]
    },
    {
      "cell_type": "code",
      "execution_count": 13,
      "metadata": {
        "id": "Ns6YjDelLp-Z"
      },
      "outputs": [],
      "source": [
        "data2 = data2.set_index('RECIPE_NM_KO')"
      ]
    },
    {
      "cell_type": "code",
      "execution_count": 14,
      "metadata": {
        "id": "aJ3K9sMSbO2q"
      },
      "outputs": [],
      "source": [
        "data3 = pd.read_csv('./recipe_resource.csv', encoding='cp949')"
      ]
    },
    {
      "cell_type": "code",
      "execution_count": 15,
      "metadata": {
        "id": "PJcqFWJJfCf5"
      },
      "outputs": [],
      "source": [
        "data3.drop(['IRDNT_SN', 'IRDNT_CPCTY', 'IRDNT_TY_CODE', 'IRDNT_TY_NM'], axis = 1, inplace=True)"
      ]
    },
    {
      "cell_type": "code",
      "execution_count": 163,
      "metadata": {
        "id": "xEhJGP0KYaBi"
      },
      "outputs": [],
      "source": [
        "memil = ['메밀', '메밀가루']\n",
        "mil = ['밀가루', '밀', '강력분', '박력분', '중력분', '빵', '부침가루', '바게트', '칼국수', '국수', '소면', '면', '쫄면', '라면']\n",
        "deadu = ['두부', '어묵', '콩나물']\n",
        "hodu = ['호두']\n",
        "ddangkong = ['땅콩', '땅콩버터']\n",
        "boksung_a = ['복숭아']\n",
        "ge = ['꽃게', '참게', '대게', '킹크랩']\n",
        "godeungeo = ['고등어']\n",
        "tomato = ['토마토']\n",
        "doejigogi = ['돼지고기', '갈비', '다진돼지고기', '베이컨', '돼지고기육수', '삼겹살']\n",
        "gyeran = ['계란', '달걀']\n",
        "uyu = ['우유', '치즈', '치즈가루', '모짜렐라치즈']\n",
        "darkgogi = ['닭고기']\n",
        "soigogi = ['쇠고기', '소고기', '갈비', '쇠고기육수', '양지머리', '안심', '등심']\n",
        "saeu = ['새우', '대하', '건새우', '새우젓']\n",
        "honghap = ['홍합']\n",
        "geonbok = ['전복']\n",
        "gul = ['굴', '굴소스']\n",
        "jogae = ['바지락', '꼬막', '골뱅이', '소라']\n",
        "ojingeo = ['오징어', '진미채', '오징어젓갈']\n",
        "ahwansan = ['소시지', '소세지', '햄', '스팸', '육포','베이컨']"
      ]
    },
    {
      "cell_type": "code",
      "execution_count": 164,
      "metadata": {
        "id": "geIbl79nYZMb"
      },
      "outputs": [],
      "source": [
        "allergie = [memil, mil, deadu, hodu, ddangkong, boksung_a, ge, godeungeo, tomato, doejigogi, gyeran, uyu, darkgogi, soigogi, saeu, honghap, geonbok, gul, jogae, ojingeo, ahwansan]"
      ]
    },
    {
      "cell_type": "code",
      "execution_count": 165,
      "metadata": {
        "id": "Rl2F2z7matdK"
      },
      "outputs": [],
      "source": [
        "def food_resource(name):\n",
        "  try:\n",
        "    rc_no = int(data2.loc[name]['RECIPE_ID'])\n",
        "    result = data3[data3.RECIPE_ID == rc_no]['IRDNT_NM'].tolist()\n",
        "\n",
        "    print('요리재료 :', result)\n",
        "  except:\n",
        "    print('레시피를 찾을 수 없습니다.')\n",
        "  try:\n",
        "    alwar = set()\n",
        "    for i in allergie:\n",
        "      alsource = set(i) & set(result)\n",
        "      if alsource != set():\n",
        "        alwar = alwar | alsource\n",
        "      else:\n",
        "        pass\n",
        "  except:\n",
        "    pass\n",
        "  try:\n",
        "    if alwar & set(ge) != set():\n",
        "      print('※경고 : 알러지 유발물질 게 포함')\n",
        "    if alwar & set(godeungeo) != set():\n",
        "      print('※경고 : 알러지 유발물질 고등어 포함')\n",
        "    if alwar & set(memil) != set():\n",
        "      print('※경고 : 알러지 유발물질 메밀 포함')\n",
        "    if alwar & set(mil) != set():\n",
        "      print('※경고 : 알러지 유발물질 밀 포함')\n",
        "    if alwar & set(deadu) != set():\n",
        "      print('※경고 : 알러지 유발물질 대두 포함')\n",
        "    if alwar & set(hodu) != set():\n",
        "      print('※경고 : 알러지 유발물질 호두 포함')\n",
        "    if alwar & set(ddangkong) != set():\n",
        "      print('※경고 : 알러지 유발물질 땅콩 포함')\n",
        "    if alwar & set(boksung_a) != set():\n",
        "      print('※경고 : 알러지 유발물질 복숭아 포함')\n",
        "    if alwar & set(tomato) != set():\n",
        "      print('※경고 : 알러지 유발물질 토마토 포함')\n",
        "    if alwar & set(doejigogi) != set():\n",
        "      print('※경고 : 알러지 유발물질 돼지고기 포함')\n",
        "    if alwar & set(gyeran) != set():\n",
        "      print('※경고 : 알러지 유발물질 계란 포함')        \n",
        "    if alwar & set(uyu) != set():\n",
        "      print('※경고 : 알러지 유발물질 우유 포함')\n",
        "    if alwar & set(darkgogi) != set():\n",
        "      print('※경고 : 알러지 유발물질 닭고기 포함')\n",
        "    if alwar & set(soigogi) != set():\n",
        "      print('※경고 : 알러지 유발물질 소고기 포함')\n",
        "    if alwar & set(saeu) != set():\n",
        "      print('※경고 : 알러지 유발물질 새우 포함')\n",
        "    if alwar & set(honghap) != set():\n",
        "      print('※경고 : 알러지 유발물질 홍합 포함')\n",
        "    if alwar & set(geonbok) != set():\n",
        "      print('※경고 : 알러지 유발물질 전복 포함')\n",
        "    if alwar & set(gul) != set():\n",
        "      print('※경고 : 알러지 유발물질 굴 포함')\n",
        "    if alwar & set(jogae) != set():\n",
        "      print('※경고 : 알러지 유발물질 조개 포함')\n",
        "    if alwar & set(ojingeo) != set():\n",
        "      print('※경고 : 알러지 유발물질 오징어 포함')\n",
        "    if alwar & set(ahwansan) != set():\n",
        "      print('※경고 : 알러지 유발물질 아황산 포함')\n",
        "  except:\n",
        "    pass"
      ]
    },
    {
      "cell_type": "code",
      "execution_count": 166,
      "metadata": {
        "colab": {
          "base_uri": "https://localhost:8080/"
        },
        "id": "9BEc5FEcgnYw",
        "outputId": "92f4ac6f-621a-4200-fa6a-12c390d529c4"
      },
      "outputs": [
        {
          "name": "stdout",
          "output_type": "stream",
          "text": [
            "요리재료 : ['쇠고기', '대파', '마늘', '생강', '물', '계란', '홍고추', '진간장', '설탕', '참기름']\n",
            "※경고 : 알러지 유발물질 계란 포함\n",
            "※경고 : 알러지 유발물질 소고기 포함\n"
          ]
        }
      ],
      "source": [
        "food_resource('장조림')"
      ]
    },
    {
      "cell_type": "code",
      "execution_count": 167,
      "metadata": {
        "id": "6kWiw1uOj6Vw"
      },
      "outputs": [],
      "source": [
        "def food_info(name):\n",
        "  food_en(name)\n",
        "  food_resource(name)"
      ]
    },
    {
      "cell_type": "code",
      "execution_count": 168,
      "metadata": {
        "colab": {
          "base_uri": "https://localhost:8080/"
        },
        "id": "ECx8nNTFkt6C",
        "outputId": "4ee9ca8d-4d8d-4d44-e8a2-49794ab2fbf3"
      },
      "outputs": [
        {
          "name": "stdout",
          "output_type": "stream",
          "text": [
            "요리명 : 비빔밥\n",
            "요리명(영문) : Bibimbap (Rice Mixed with Vegetables and Beef)\n",
            "요리설명(영문) : One of the most popular Korean dishes, bibimbap consists of a bowl of rice topped with fresh and cooked vegetables and red chili pepper paste. Everything is mixed together before eating. Seasoned raw beef, grilled beef, or a fried egg can also be added. There are many styles and regional variations of this dish. The cities of Jeonju and Jinju are famous for their distinctive bibimbap and there are other variations such as hot stone pot (dolsot) bibimbap, soybean sprout bibimbap, and vegetable bibimbap. Goldongban is the royal court term for bibimbap.\n",
            "요리재료 : ['쌀', '안심', '콩나물', '청포묵', '미나리', '소금', '국간장', '다진파', '다진마늘', '참기름', '고추장', '설탕', '숙주', '도라지', '고사리', '계란', '양지머리']\n",
            "※경고 : 알러지 유발물질 대두 포함\n",
            "※경고 : 알러지 유발물질 계란 포함\n",
            "※경고 : 알러지 유발물질 소고기 포함\n"
          ]
        }
      ],
      "source": [
        "food_info('비빔밥')"
      ]
    },
    {
      "cell_type": "code",
      "execution_count": null,
      "metadata": {
        "id": "iVXYFVnP5W2e"
      },
      "outputs": [],
      "source": []
    }
  ],
  "metadata": {
    "colab": {
      "collapsed_sections": [],
      "name": "K-Food information.ipynb",
      "provenance": []
    },
    "kernelspec": {
      "display_name": "Python 3",
      "name": "python3"
    },
    "language_info": {
      "name": "python"
    }
  },
  "nbformat": 4,
  "nbformat_minor": 0
}
