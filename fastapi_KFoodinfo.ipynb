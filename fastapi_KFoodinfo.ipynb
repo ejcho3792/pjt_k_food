{
  "cells": [
    {
      "cell_type": "markdown",
      "metadata": {
        "id": "rM3OSmCFqjsM"
      },
      "source": [
        "#딥러닝 사진 구분\n"
      ]
    },
    {
      "cell_type": "code",
      "execution_count": 1,
      "metadata": {
        "colab": {
          "base_uri": "https://localhost:8080/"
        },
        "id": "OQVG6ope2BLr",
        "outputId": "59f8bb6d-33ff-4361-e257-0d16431572a5"
      },
      "outputs": [
        {
          "name": "stdout",
          "output_type": "stream",
          "text": [
            "Drive already mounted at /content/drive; to attempt to forcibly remount, call drive.mount(\"/content/drive\", force_remount=True).\n"
          ]
        }
      ],
      "source": [
        "# 구글 드라이브 마운트\n",
        "from google.colab import drive\n",
        "drive.mount('/content/drive')"
      ]
    },
    {
      "cell_type": "code",
      "execution_count": 2,
      "metadata": {
        "id": "pPqax_YK_83u"
      },
      "outputs": [],
      "source": [
        "# 기본 데이터베이스에 해당하는 파일 디렉토리()\n",
        "!mkdir datafile"
      ]
    },
    {
      "cell_type": "code",
      "execution_count": 93,
      "metadata": {
        "id": "fGOGImKQqg7W"
      },
      "outputs": [],
      "source": [
        "!mkdir image"
      ]
    },
    {
      "cell_type": "code",
      "execution_count": 3,
      "metadata": {
        "id": "0MG-4LRLBWVT"
      },
      "outputs": [],
      "source": [
        "# static 디렉토리 생성\n",
        "! mkdir static"
      ]
    },
    {
      "cell_type": "markdown",
      "metadata": {
        "id": "od-152C7qv02"
      },
      "source": [
        "- 생성된 datafile 디렉토리에 n_.h5 딥러닝 학습 모델, classes.txt(클래스 분류 파일) 넣기"
      ]
    },
    {
      "cell_type": "code",
      "execution_count": 2,
      "metadata": {
        "id": "hTzMY_oeI3wQ"
      },
      "outputs": [],
      "source": [
        "# 넘파이, 판다스 임포트\n",
        "import numpy as np\n",
        "import pandas as pd"
      ]
    },
    {
      "cell_type": "code",
      "execution_count": 3,
      "metadata": {
        "id": "05df2da3"
      },
      "outputs": [],
      "source": [
        "# 텐서플로우 모델로더 임포트\n",
        "from tensorflow.keras.models import load_model"
      ]
    },
    {
      "cell_type": "code",
      "execution_count": 4,
      "metadata": {
        "id": "IDBGbrufpwiO"
      },
      "outputs": [],
      "source": [
        "# 데이터베이스 디렉토리 패스\n",
        "file_path = './datafile/'"
      ]
    },
    {
      "cell_type": "code",
      "execution_count": 5,
      "metadata": {
        "colab": {
          "base_uri": "https://localhost:8080/"
        },
        "id": "_ohY57BueoiG",
        "outputId": "e3c03f87-e25b-45e8-d58b-d0866baaffa4"
      },
      "outputs": [
        {
          "name": "stdout",
          "output_type": "stream",
          "text": [
            "Model: \"sequential_5\"\n",
            "_________________________________________________________________\n",
            " Layer (type)                Output Shape              Param #   \n",
            "=================================================================\n",
            " vgg16 (Functional)          (None, 7, 7, 512)         14714688  \n",
            "                                                                 \n",
            " flatten_5 (Flatten)         (None, 25088)             0         \n",
            "                                                                 \n",
            " dense_10 (Dense)            (None, 256)               6422784   \n",
            "                                                                 \n",
            " batch_normalization_4 (Batc  (None, 256)              1024      \n",
            " hNormalization)                                                 \n",
            "                                                                 \n",
            " dense_11 (Dense)            (None, 149)               38293     \n",
            "                                                                 \n",
            "=================================================================\n",
            "Total params: 21,176,789\n",
            "Trainable params: 13,541,013\n",
            "Non-trainable params: 7,635,776\n",
            "_________________________________________________________________\n"
          ]
        }
      ],
      "source": [
        "# 학습된 딥러닝 모델 로드\n",
        "\n",
        "model = load_model(file_path + 'n_.h5')\n",
        "\n",
        "model.summary()"
      ]
    },
    {
      "cell_type": "code",
      "execution_count": 6,
      "metadata": {
        "id": "778bb483"
      },
      "outputs": [],
      "source": [
        "# 추가 모듈 임포트\n",
        "import json\n",
        "import numpy as np\n",
        "from PIL import Image"
      ]
    },
    {
      "cell_type": "code",
      "execution_count": 90,
      "metadata": {
        "id": "gR-ZOWjwZBOq"
      },
      "outputs": [],
      "source": [
        "img_path = './image/'"
      ]
    },
    {
      "cell_type": "code",
      "execution_count": 91,
      "metadata": {
        "id": "f9322f90"
      },
      "outputs": [],
      "source": [
        "# 사진 구분 함수 (사진 데이터에서 음식 이름 추출) 정의\n",
        "\n",
        "def prd_img(filename):\n",
        "    img_dir= img_path+'{}'.format(filename)\n",
        "    with open(file_path+\"classes.txt\", \"r\") as fp:\n",
        "        classes = json.load(fp)\n",
        "    tst = Image.open(img_dir)\n",
        "    tst = tst.convert('RGB')\n",
        "    tst=tst.resize((224,224))\n",
        "    tst=np.expand_dims(tst,axis=0)\n",
        "    prd=model.predict(tst)\n",
        "    prd=np.argmax(prd[0])\n",
        "    name = classes[prd]\n",
        "    return name"
      ]
    },
    {
      "cell_type": "markdown",
      "metadata": {
        "id": "qGsBIxp-_9Hn"
      },
      "source": [
        "#음식정보 데이터 리드"
      ]
    },
    {
      "cell_type": "markdown",
      "metadata": {
        "id": "DxJ--TrGqjok"
      },
      "source": [
        "- datafile 디렉토리에 K-Food_Recipe.csv, K-Food_info.csv, recipe_resource.csv 파일 넣기"
      ]
    },
    {
      "cell_type": "code",
      "execution_count": 9,
      "metadata": {
        "id": "NcZdab5RJCu8"
      },
      "outputs": [],
      "source": [
        "data = pd.read_csv(file_path+'K-Food_info.csv', encoding = 'cp949', index_col='음식명').drop('구분', axis = 1).fillna('No data')"
      ]
    },
    {
      "cell_type": "code",
      "execution_count": 10,
      "metadata": {
        "id": "fgGw0e7uaiVG"
      },
      "outputs": [],
      "source": [
        "data2 = pd.read_csv(file_path+'./K-Food_Recipe.csv', encoding='cp949', index_col='RECIPE_NM_KO')"
      ]
    },
    {
      "cell_type": "code",
      "execution_count": 11,
      "metadata": {
        "id": "aJ3K9sMSbO2q"
      },
      "outputs": [],
      "source": [
        "data3 = pd.read_csv(file_path+'./recipe_resource.csv', encoding='cp949').drop(['IRDNT_SN', 'IRDNT_CPCTY', 'IRDNT_TY_CODE', 'IRDNT_TY_NM'], axis = 1)"
      ]
    },
    {
      "cell_type": "markdown",
      "metadata": {
        "id": "bEDsWc30fpX3"
      },
      "source": [
        "# 음식정보"
      ]
    },
    {
      "cell_type": "code",
      "execution_count": 12,
      "metadata": {
        "id": "nCqp05kZJkoX"
      },
      "outputs": [],
      "source": [
        "# 음식명에 따른 요리명, 영문 요리명, 음식 설명 출력 함수 정의\n",
        "def food_en(name):\n",
        "    failtext = '요리를 찾지 못했습니다.'\n",
        "    try:\n",
        "        food_name = name\n",
        "        food_name_en = data.loc[name]['영문']\n",
        "        food_info_en = data.loc[name]['음식설명']\n",
        "\n",
        "        return food_name, food_name_en, food_info_en\n",
        "    except:\n",
        "        food_name = name\n",
        "        food_name_en = failtext\n",
        "        food_info_en = failtext\n",
        "        return food_name, food_name_en, food_info_en"
      ]
    },
    {
      "cell_type": "markdown",
      "metadata": {
        "id": "HBjjqhAXfpYC"
      },
      "source": [
        "# 알레르기정보"
      ]
    },
    {
      "cell_type": "code",
      "execution_count": 13,
      "metadata": {
        "id": "RDhuLN0afpX0"
      },
      "outputs": [],
      "source": [
        "# 재료별 알레르기 정보\n",
        "Allergie = {'메밀': ['메밀', '메밀가루'],\n",
        "            '밀': ['밀가루', '밀', '강력분', '박력분', '중력분', '빵', '부침가루', '바게트', '칼국수', '국수', '소면', '면', '쫄면', '라면'],\n",
        "            '대두': ['두부', '어묵', '콩나물'],\n",
        "            '호두': ['호두'],\n",
        "            '땅콩': ['땅콩', '땅콩버터'],\n",
        "            '복숭아': ['복숭아'],\n",
        "            '게': ['꽃게', '참게', '대게', '킹크랩'],\n",
        "            '고등어': ['고등어'],\n",
        "            '토마토': ['토마토'],\n",
        "            '돼지고기': ['돼지고기', '갈비', '다진돼지고기', '베이컨', '돼지고기육수', '삼겹살', '햄'],\n",
        "            '계란': ['계란', '달걀'],\n",
        "            '우유': ['우유', '치즈', '치즈가루', '모짜렐라치즈'],\n",
        "            '닭고기': ['닭고기'],\n",
        "            '쇠고기': ['쇠고기', '소고기', '갈비', '쇠고기육수', '양지머리', '안심', '등심'],\n",
        "            '새우': ['새우', '대하', '건새우', '새우젓', '생새우'],\n",
        "            '홍합': ['홍합'],\n",
        "            '전복': ['전복'],\n",
        "            '굴': ['굴', '굴소스'],\n",
        "            '조개류': ['바지락', '꼬막', '골뱅이', '소라'],\n",
        "            '오징어': ['오징어', '진미채', '오징어젓갈'],\n",
        "            '아황산': ['소시지', '소세지', '햄', '스팸', '육포','베이컨']}"
      ]
    },
    {
      "cell_type": "code",
      "execution_count": 14,
      "metadata": {
        "id": "Rl2F2z7matdK"
      },
      "outputs": [],
      "source": [
        "# 음식명에 따른 음식 레시피, 레시피를 기반으로 알레르기 유발재료를 도출하는 함수 정의\n",
        "def food_resource(name):\n",
        "    failment = str('레시피를 찾을 수 없습니다.')\n",
        "    try:\n",
        "        rc_no = int(data2.loc[name]['RECIPE_ID'])\n",
        "        resource = data3[data3.RECIPE_ID == rc_no]['IRDNT_NM'].tolist()\n",
        "\n",
        "        result = resource\n",
        "    except:\n",
        "        result = failment\n",
        "        \n",
        "    try:\n",
        "        alwar = set()\n",
        "        for key, value in Allergie.items():\n",
        "            alsource = set(value) & set(result)\n",
        "            if alsource != set():\n",
        "                alwar = alwar | alsource\n",
        "            else:\n",
        "                pass\n",
        "    except:\n",
        "        pass\n",
        "    \n",
        "    try:\n",
        "        keys = []\n",
        "        for key, value in Allergie.items():\n",
        "            if alwar & set(value) != set():\n",
        "                keys.append(key)\n",
        "    except:\n",
        "        pass\n",
        "  \n",
        "    if keys != []:\n",
        "      return result, keys\n",
        "    else:\n",
        "      return result, keys"
      ]
    },
    {
      "cell_type": "markdown",
      "metadata": {
        "id": "hdEurbu9A5Vu"
      },
      "source": [
        "# 네이버 API 적용"
      ]
    },
    {
      "cell_type": "code",
      "execution_count": 79,
      "metadata": {
        "id": "9Txs_eoWtxce"
      },
      "outputs": [],
      "source": [
        "  import requests\n",
        "  import json\n",
        "  import os\n",
        "  import sys\n",
        "  import urllib.request\n",
        "  import shutil\n",
        "  import time"
      ]
    },
    {
      "cell_type": "code",
      "execution_count": 83,
      "metadata": {
        "id": "pd0GL0w3fpYL"
      },
      "outputs": [],
      "source": [
        "# 음식명을 한국어 발음으로 mp3화하여 저장하는 함수 정의\n",
        "def foodname_voice(name):\n",
        "  client_id = \"fr2pmzwe08\"\n",
        "  client_secret = \"uzTbsKj83c57qTJNlHRbeIsTiwDdVoZLKDod8UBh\"\n",
        "  encText = urllib.parse.quote(name)\n",
        "  data = \"speaker=nara&volume=0&speed=0&pitch=0&format=mp3&text=\" + encText;\n",
        "  url = \"https://naveropenapi.apigw.ntruss.com/tts-premium/v1/tts\"\n",
        "  request = urllib.request.Request(url)\n",
        "  request.add_header(\"X-NCP-APIGW-API-KEY-ID\",client_id)\n",
        "  request.add_header(\"X-NCP-APIGW-API-KEY\",client_secret)\n",
        "  response = urllib.request.urlopen(request, data=data.encode('utf-8'))\n",
        "  rescode = response.getcode()\n",
        "  if(rescode==200):\n",
        "      response_body = response.read()\n",
        "      with open('foodname.mp3', 'wb') as f:\n",
        "          f.write(response_body)\n",
        "      source = 'foodname.mp3'\n",
        "      destination = '/content/static/foodname.mp3'\n",
        "      shutil.move(source, destination)\n",
        "  else:\n",
        "    errormsg = (\"Error Code:\" + rescode)\n",
        "    return errormsg"
      ]
    },
    {
      "cell_type": "code",
      "execution_count": 17,
      "metadata": {
        "id": "-cQneZX9-MCl"
      },
      "outputs": [],
      "source": [
        "# 입력된 텍스트와 희망 언어를 입력하여 텍스트를 희망 언어로 번역해주는 함수 정의\n",
        "def translation(text, lng):\n",
        "  client_id = \"fr2pmzwe08\"\n",
        "  client_secret = \"uzTbsKj83c57qTJNlHRbeIsTiwDdVoZLKDod8UBh\"\n",
        "\n",
        "  # lang = ko, ja, en, zh-CN, zh-TW, vi, th, es, fr, id, ru, de, it\n",
        "\n",
        "  lang = lng\n",
        "  encText = urllib.parse.quote(text)\n",
        "  data = \"source=ko&target={}&text=\".format(lang) + encText\n",
        "  url = \"https://naveropenapi.apigw.ntruss.com/nmt/v1/translation\"\n",
        "\n",
        "  request = urllib.request.Request(url)\n",
        "  request.add_header(\"X-NCP-APIGW-API-KEY-ID\",client_id)\n",
        "  request.add_header(\"X-NCP-APIGW-API-KEY\",client_secret)\n",
        "  response = urllib.request.urlopen(request, data=data.encode(\"utf-8\"))\n",
        "  rescode = response.getcode()\n",
        "\n",
        "\n",
        "  if(rescode==200):\n",
        "      response_body = response.read()\n",
        "      response_encod = response_body.decode('utf-8')\n",
        "      dict = json.loads(response_encod )\n",
        "      mesge = dict['message']\n",
        "      return(mesge['result']['translatedText'])\n",
        "\n",
        "  else:\n",
        "    errormsg = (\"Error Code:\" + rescode)\n",
        "    return errormsg"
      ]
    },
    {
      "cell_type": "markdown",
      "metadata": {
        "id": "DzY4CKi-_mXn"
      },
      "source": [
        "# FastAPI\n"
      ]
    },
    {
      "cell_type": "code",
      "execution_count": 18,
      "metadata": {
        "colab": {
          "base_uri": "https://localhost:8080/"
        },
        "id": "WbVn8PBTvvgI",
        "outputId": "d5bf6554-7ce5-4839-9a55-cbada272d35f"
      },
      "outputs": [
        {
          "name": "stdout",
          "output_type": "stream",
          "text": [
            "Requirement already satisfied: fastapi in /usr/local/lib/python3.7/dist-packages (0.75.0)\n",
            "Requirement already satisfied: nest-asyncio in /usr/local/lib/python3.7/dist-packages (1.5.4)\n",
            "Requirement already satisfied: pyngrok in /usr/local/lib/python3.7/dist-packages (5.1.0)\n",
            "Requirement already satisfied: uvicorn in /usr/local/lib/python3.7/dist-packages (0.17.6)\n",
            "Requirement already satisfied: aiofiles in /usr/local/lib/python3.7/dist-packages (0.8.0)\n",
            "Requirement already satisfied: python-multipart in /usr/local/lib/python3.7/dist-packages (0.0.5)\n",
            "Requirement already satisfied: starlette==0.17.1 in /usr/local/lib/python3.7/dist-packages (from fastapi) (0.17.1)\n",
            "Requirement already satisfied: pydantic!=1.7,!=1.7.1,!=1.7.2,!=1.7.3,!=1.8,!=1.8.1,<2.0.0,>=1.6.2 in /usr/local/lib/python3.7/dist-packages (from fastapi) (1.9.0)\n",
            "Requirement already satisfied: typing-extensions in /usr/local/lib/python3.7/dist-packages (from starlette==0.17.1->fastapi) (3.10.0.2)\n",
            "Requirement already satisfied: anyio<4,>=3.0.0 in /usr/local/lib/python3.7/dist-packages (from starlette==0.17.1->fastapi) (3.5.0)\n",
            "Requirement already satisfied: idna>=2.8 in /usr/local/lib/python3.7/dist-packages (from anyio<4,>=3.0.0->starlette==0.17.1->fastapi) (2.10)\n",
            "Requirement already satisfied: sniffio>=1.1 in /usr/local/lib/python3.7/dist-packages (from anyio<4,>=3.0.0->starlette==0.17.1->fastapi) (1.2.0)\n",
            "Requirement already satisfied: PyYAML in /usr/local/lib/python3.7/dist-packages (from pyngrok) (3.13)\n",
            "Requirement already satisfied: click>=7.0 in /usr/local/lib/python3.7/dist-packages (from uvicorn) (7.1.2)\n",
            "Requirement already satisfied: asgiref>=3.4.0 in /usr/local/lib/python3.7/dist-packages (from uvicorn) (3.5.0)\n",
            "Requirement already satisfied: h11>=0.8 in /usr/local/lib/python3.7/dist-packages (from uvicorn) (0.13.0)\n",
            "Requirement already satisfied: six>=1.4.0 in /usr/local/lib/python3.7/dist-packages (from python-multipart) (1.15.0)\n"
          ]
        }
      ],
      "source": [
        "!pip install fastapi nest-asyncio pyngrok uvicorn aiofiles python-multipart"
      ]
    },
    {
      "cell_type": "code",
      "execution_count": 19,
      "metadata": {
        "id": "KD6Kg9xqvS27"
      },
      "outputs": [],
      "source": [
        "# 모듈 임포트\n",
        "from fastapi import FastAPI, Request, Form, File, UploadFile\n",
        "from fastapi.responses import HTMLResponse\n",
        "from fastapi.staticfiles import StaticFiles\n",
        "from fastapi.templating import Jinja2Templates\n",
        "import nest_asyncio\n",
        "from pyngrok import ngrok\n",
        "\n",
        "import uvicorn"
      ]
    },
    {
      "cell_type": "code",
      "execution_count": 20,
      "metadata": {
        "colab": {
          "base_uri": "https://localhost:8080/"
        },
        "id": "DPpkhuhs1qmh",
        "outputId": "ede5ac06-07c1-4977-c90a-772015c79845"
      },
      "outputs": [
        {
          "name": "stdout",
          "output_type": "stream",
          "text": [
            "mkdir: cannot create directory ‘templates’: File exists\n"
          ]
        }
      ],
      "source": [
        "# 템플릿 디렉토리 생성\n",
        "!mkdir templates"
      ]
    },
    {
      "cell_type": "markdown",
      "metadata": {
        "id": "QkNMDxMGs5pA"
      },
      "source": [
        "##API 화면 출력용 html 작성"
      ]
    },
    {
      "cell_type": "code",
      "execution_count": 40,
      "metadata": {
        "id": "16GEDUaGUH_H"
      },
      "outputs": [],
      "source": [
        "title = '찾으신 한식에 관련된 정보입니다.'\n",
        "fodna = '음식 이름'\n",
        "fodnaen = '음식 이름(번역)'\n",
        "foodin = '음식 정보'\n",
        "allwarn = '경고 : 해당 음식에는 다음 재료가 포함될 수 있습니다.'\n",
        "krdic = '한국어 발음'\n",
        "interface = [title, fodna, fodnaen, foodin, allwarn, krdic]"
      ]
    },
    {
      "cell_type": "code",
      "execution_count": 34,
      "metadata": {
        "colab": {
          "base_uri": "https://localhost:8080/"
        },
        "id": "Mr4-CzWHvuLY",
        "outputId": "ba1056e3-040a-4f54-ba9b-f8d330d77f71"
      },
      "outputs": [
        {
          "name": "stdout",
          "output_type": "stream",
          "text": [
            "Overwriting templates/input.html\n"
          ]
        }
      ],
      "source": [
        "%%writefile templates/input.html\n",
        "<!DOCTYPE html>\n",
        "<html>\n",
        "<body>\n",
        "\n",
        "<h2>요리</h2>\n",
        "\n",
        "<form method=\"post\" action=\"/topic\" enctype=\"multipart/form-data\">\n",
        "\n",
        "  <input type=\"file\" name=\"img\" accept=\"image/*\">\n",
        "\n",
        " \n",
        "\n",
        "  <h2>언어</h2>\n",
        "\n",
        "  <select name = 'lng'>\n",
        "    <option type='text', value='en'>영어</option>\n",
        "    <option type='text', value='ja'>일본어</option>\n",
        "    <option type='text', value='vi'>베트남어</option>\n",
        "    <option type='text', value='th'>태국어</option>\n",
        "    <option type='text', value='es'>스페인어</option>\n",
        "    <option type='text', value='fr'>프랑스어</option>\n",
        "    <option type='text', value='id'>인도네시아어</option>\n",
        "    <option type='text', value='ru'>러시아어</option>\n",
        "    <option type='text', value='de'>독일어</option>\n",
        "    <option type='text', value='it'>이탈리어어</option>\n",
        "    <option type='text', value='zh-CN'>중국어(간체)</option>\n",
        "    <option type='text', value='zh-TW'>중국어(번체)</option>\n",
        "  </select>\n",
        "  \n",
        "  <input type=\"submit\", Value=분석>\n",
        "\n",
        "</form>\n",
        "\n",
        "<p>분석 버튼을 누르시면 음식 정보 분석을 시작합니다.</p>\n",
        "\n",
        "</body>\n",
        "</html>"
      ]
    },
    {
      "cell_type": "code",
      "execution_count": 105,
      "metadata": {
        "colab": {
          "base_uri": "https://localhost:8080/"
        },
        "id": "4umpiluRvuyN",
        "outputId": "f50d4bcb-cba6-40aa-d009-949891d53368"
      },
      "outputs": [
        {
          "name": "stdout",
          "output_type": "stream",
          "text": [
            "Overwriting templates/result_video.html\n"
          ]
        }
      ],
      "source": [
        "%%writefile templates/result_video.html\n",
        "<html>\n",
        "  <body>\n",
        "\n",
        "    <h1>{{inter1}}</h1>\n",
        "      <ul>\n",
        "\n",
        "        <li>{{inter2}} : {{foodname}}</li>\n",
        "        <li>{{inter3}} : {{fooden}}</li>\n",
        "        <li>{{inter4}} : {{foodintr}}</li>\n",
        "        <!-- <li>요리재료 : {{foodsource}}</li> -->\n",
        "        {% if allergie != [] %}\n",
        "        <li>※{{inter5}}<br>\n",
        "        {{allergie}}    \n",
        "        </li>\n",
        "        {% endif %}\n",
        "\n",
        "      </ul><br>\n",
        "      <audio>\n",
        "        <source src= {{ fn }} type=\"audio/mpeg\">\n",
        "      </audio>\n",
        "      <img src= {{ image }} alt= 'imgnotfound', height=\"300\" width=\"400\">\n",
        "    \n",
        "    <h2>{{inter6}}</h2>\n",
        "\n",
        "      <audio controls>\n",
        "        <source src= {{ fn }} type=\"audio/mpeg\">\n",
        "        Your browser does not support the audio element.\n",
        "      </audio><br>\n",
        "\n",
        "      <a href=\"javascript:history.back()\">뒤로가기</a>\n",
        "  </body>\n",
        "</html>"
      ]
    },
    {
      "cell_type": "markdown",
      "metadata": {
        "id": "Y4z5OvR1jwmR"
      },
      "source": [
        "**API 구성 및 실행**"
      ]
    },
    {
      "cell_type": "code",
      "execution_count": 98,
      "metadata": {
        "id": "qtiaTV3DvuTB"
      },
      "outputs": [],
      "source": [
        "# FastAPI\n",
        "from fastapi.staticfiles import StaticFiles\n",
        "\n",
        "app=FastAPI()\n",
        "templates = Jinja2Templates(directory=\"templates\")\n",
        "app.mount('/static', StaticFiles(directory='static'), name='static')\n",
        "app.mount('/image', StaticFiles(directory='image'), name='image')\n",
        "\n",
        "@app.get('/', response_class=HTMLResponse)\n",
        "async def read_topic(request: Request):\n",
        "  return templates.TemplateResponse(\"input.html\", {\"request\": request})\n",
        "\n",
        "@app.post('/topic', response_class=HTMLResponse)\n",
        "async def get_topic(request: Request, img: UploadFile = File(...), lng: str = Form(...)):\n",
        "  file_location = f\"image/{img.filename}\"\n",
        "  with open(file_location, \"wb+\") as file_object:\n",
        "      file_object.write(img.file.read())\n",
        "  # app.url_path_for('static', path='/{}'.format(img.filename))\n",
        "  foodName = prd_img(img.filename)\n",
        "  food_en(foodName)\n",
        "  food_resource(foodName)\n",
        "  foodname_voice(foodName)\n",
        "  transres = translation(food_en(foodName)[2], lng)\n",
        "  intertrance = []\n",
        "  for translate in interface:\n",
        "    interres = translation(translate, lng)\n",
        "    intertrance.append(interres)\n",
        "  allre = food_resource(foodName)[1]\n",
        "  transal = []\n",
        "  for transals in allre:\n",
        "    allres = translation(transals, lng)\n",
        "    transal.append(allres)\n",
        "\n",
        "  food_en(foodName)[2],\n",
        "  return templates.TemplateResponse(\"result_video.html\", {\"request\": request,\n",
        "                                                          \"lng\": lng,\n",
        "                                                          \"filename\": img.filename,\n",
        "                                                          'fn': '/static/foodname.mp3',\n",
        "                                                          'foodname': prd_img(img.filename),\n",
        "                                                          'fooden': food_en(foodName)[1],\n",
        "                                                          'foodinen' : food_en(foodName)[2],\n",
        "                                                          'foodsource' : food_resource(foodName)[0],\n",
        "                                                          'allergie' : transal,\n",
        "                                                          'foodintr' : transres,\n",
        "                                                          'image': '/image/{}'.format(img.filename),\n",
        "                                                          'inter1': intertrance[0],\n",
        "                                                          'inter2': intertrance[1],\n",
        "                                                          'inter3': intertrance[2],\n",
        "                                                          'inter4': intertrance[3],\n",
        "                                                          'inter5': intertrance[4],\n",
        "                                                          'inter6': intertrance[5]\n",
        "                                                          })"
      ]
    },
    {
      "cell_type": "code",
      "execution_count": 25,
      "metadata": {
        "colab": {
          "base_uri": "https://localhost:8080/"
        },
        "id": "Xai-ntaMxtYP",
        "outputId": "f851dc22-3673-4805-8a10-46dbdeb569ac"
      },
      "outputs": [
        {
          "name": "stdout",
          "output_type": "stream",
          "text": [
            "Authtoken saved to configuration file: /root/.ngrok2/ngrok.yml\n"
          ]
        }
      ],
      "source": [
        "#ngrok authtoken 인증 (원활한 사용을 위해 개인 키를 이용할 것)\n",
        "!ngrok authtoken 26zfEwqA01d1BVXYTKjLBxbTUDV_6nKybjK5amGTTzuo34T1u"
      ]
    },
    {
      "cell_type": "code",
      "execution_count": 87,
      "metadata": {
        "colab": {
          "base_uri": "https://localhost:8080/",
          "height": 35
        },
        "id": "pnxpjJpCtKos",
        "outputId": "3c4c3d1a-c4e3-4c24-c312-071c71aa7e44"
      },
      "outputs": [
        {
          "data": {
            "application/vnd.google.colaboratory.intrinsic+json": {
              "type": "string"
            },
            "text/plain": [
              "'/static/foodname.mp3'"
            ]
          },
          "execution_count": 87,
          "metadata": {},
          "output_type": "execute_result"
        }
      ],
      "source": [
        "app.url_path_for('static', path='/foodname.mp3')"
      ]
    },
    {
      "cell_type": "code",
      "execution_count": 107,
      "metadata": {
        "colab": {
          "base_uri": "https://localhost:8080/"
        },
        "id": "rNsYG9x9vuV-",
        "outputId": "1df44318-ad2c-4779-c42b-e5f2608060fa"
      },
      "outputs": [
        {
          "name": "stdout",
          "output_type": "stream",
          "text": [
            "Public URL: http://6e70-35-236-162-185.ngrok.io\n"
          ]
        },
        {
          "name": "stderr",
          "output_type": "stream",
          "text": [
            "INFO:     Started server process [978]\n",
            "INFO:     Waiting for application startup.\n",
            "INFO:     Application startup complete.\n",
            "INFO:     Uvicorn running on http://0.0.0.0:8000 (Press CTRL+C to quit)\n"
          ]
        },
        {
          "name": "stdout",
          "output_type": "stream",
          "text": [
            "INFO:     119.207.144.241:0 - \"GET / HTTP/1.1\" 200 OK\n",
            "INFO:     211.117.24.132:0 - \"GET / HTTP/1.1\" 200 OK\n",
            "INFO:     119.207.144.241:0 - \"GET / HTTP/1.1\" 200 OK\n",
            "INFO:     119.207.144.241:0 - \"GET /favicon.ico HTTP/1.1\" 404 Not Found\n",
            "INFO:     119.207.144.241:0 - \"POST /topic HTTP/1.1\" 200 OK\n",
            "INFO:     1.254.179.100:0 - \"GET /topic HTTP/1.1\" 405 Method Not Allowed\n",
            "INFO:     119.207.144.241:0 - \"GET /img.jpg HTTP/1.1\" 200 OK\n",
            "INFO:     119.207.144.241:0 - \"GET /foodname.mp3 HTTP/1.1\" 200 OK\n",
            "INFO:     119.207.144.241:0 - \"GET /favicon.ico HTTP/1.1\" 404 Not Found\n",
            "INFO:     119.207.144.241:0 - \"POST /topic HTTP/1.1\" 200 OK\n",
            "INFO:     119.207.144.241:0 - \"POST /topic HTTP/1.1\" 200 OK\n",
            "INFO:     119.207.144.241:0 - \"GET /Img_002_0024.jpg HTTP/1.1\" 200 OK\n",
            "INFO:     119.207.144.241:0 - \"GET /foodname.mp3 HTTP/1.1\" 200 OK\n",
            "INFO:     119.207.144.241:0 - \"GET /favicon.ico HTTP/1.1\" 404 Not Found\n",
            "INFO:     119.207.144.241:0 - \"POST /topic HTTP/1.1\" 200 OK\n",
            "INFO:     119.207.144.241:0 - \"GET /miku.png HTTP/1.1\" 200 OK\n",
            "INFO:     119.207.144.241:0 - \"GET /foodname.mp3 HTTP/1.1\" 200 OK\n",
            "INFO:     119.207.144.241:0 - \"GET /foodname.mp3 HTTP/1.1\" 304 Not Modified\n",
            "INFO:     119.207.144.241:0 - \"GET /favicon.ico HTTP/1.1\" 404 Not Found\n"
          ]
        },
        {
          "name": "stderr",
          "output_type": "stream",
          "text": [
            "INFO:     Shutting down\n",
            "INFO:     Waiting for application shutdown.\n",
            "INFO:     Application shutdown complete.\n",
            "INFO:     Finished server process [978]\n"
          ]
        }
      ],
      "source": [
        "ngrok_tunnel = ngrok.connect(8000)\n",
        "print ('Public URL:', ngrok_tunnel.public_url) \n",
        "nest_asyncio.apply()\n",
        "uvicorn.run(app, host='0.0.0.0', port=8000)"
      ]
    },
    {
      "cell_type": "code",
      "execution_count": 27,
      "metadata": {
        "colab": {
          "base_uri": "https://localhost:8080/"
        },
        "id": "Ye8CWK44uvPD",
        "outputId": "0c262a9a-3f56-4af6-9b54-c7d5124d9a59"
      },
      "outputs": [
        {
          "name": "stdout",
          "output_type": "stream",
          "text": [
            "[\"Here's information about the Korean food you've been looking for.\", 'Food name.', 'Food name (translation)', 'food information', '*Warning: The following ingredients may be included in the food.', 'Korean pronunciation.']\n"
          ]
        }
      ],
      "source": [
        "intertrance = []\n",
        "for translate in interface:\n",
        "  interres = translation(translate, 'en')\n",
        "  intertrance.append(interres)\n",
        "print(intertrance)"
      ]
    },
    {
      "cell_type": "code",
      "execution_count": 58,
      "metadata": {
        "id": "Hret98_vXUZj"
      },
      "outputs": [],
      "source": [
        "asd = '12345678'"
      ]
    },
    {
      "cell_type": "code",
      "execution_count": 60,
      "metadata": {
        "colab": {
          "base_uri": "https://localhost:8080/",
          "height": 35
        },
        "id": "xyV2--0RjrIP",
        "outputId": "a76c036f-01b7-4b90-d740-32bd44ac371e"
      },
      "outputs": [
        {
          "data": {
            "application/vnd.google.colaboratory.intrinsic+json": {
              "type": "string"
            },
            "text/plain": [
              "'678'"
            ]
          },
          "execution_count": 60,
          "metadata": {},
          "output_type": "execute_result"
        }
      ],
      "source": [
        "asd[-3:]"
      ]
    },
    {
      "cell_type": "code",
      "execution_count": null,
      "metadata": {
        "id": "5yCqeaP4juWA"
      },
      "outputs": [],
      "source": []
    }
  ],
  "metadata": {
    "colab": {
      "collapsed_sections": [],
      "name": "fastapi_KFoodinfo.ipynb",
      "provenance": []
    },
    "kernelspec": {
      "display_name": "Python 3",
      "name": "python3"
    },
    "language_info": {
      "name": "python"
    }
  },
  "nbformat": 4,
  "nbformat_minor": 0
}
