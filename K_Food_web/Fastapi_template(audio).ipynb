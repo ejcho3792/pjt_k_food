{
  "nbformat": 4,
  "nbformat_minor": 0,
  "metadata": {
    "colab": {
      "name": "Fastapi_template(audio).ipynb",
      "provenance": [],
      "collapsed_sections": []
    },
    "kernelspec": {
      "name": "python3",
      "display_name": "Python 3"
    },
    "language_info": {
      "name": "python"
    }
  },
  "cells": [
    {
      "cell_type": "code",
      "execution_count": 1,
      "metadata": {
        "colab": {
          "base_uri": "https://localhost:8080/"
        },
        "id": "jT0IcHJHkDE3",
        "outputId": "161a61df-dec4-40a0-f4aa-3c84c9f68724"
      },
      "outputs": [
        {
          "output_type": "stream",
          "name": "stdout",
          "text": [
            "Requirement already satisfied: fastapi in /usr/local/lib/python3.7/dist-packages (0.75.0)\n",
            "Requirement already satisfied: nest-asyncio in /usr/local/lib/python3.7/dist-packages (1.5.4)\n",
            "Requirement already satisfied: pyngrok in /usr/local/lib/python3.7/dist-packages (5.1.0)\n",
            "Requirement already satisfied: uvicorn in /usr/local/lib/python3.7/dist-packages (0.17.6)\n",
            "Requirement already satisfied: aiofiles in /usr/local/lib/python3.7/dist-packages (0.8.0)\n",
            "Requirement already satisfied: python-multipart in /usr/local/lib/python3.7/dist-packages (0.0.5)\n",
            "Requirement already satisfied: starlette==0.17.1 in /usr/local/lib/python3.7/dist-packages (from fastapi) (0.17.1)\n",
            "Requirement already satisfied: pydantic!=1.7,!=1.7.1,!=1.7.2,!=1.7.3,!=1.8,!=1.8.1,<2.0.0,>=1.6.2 in /usr/local/lib/python3.7/dist-packages (from fastapi) (1.9.0)\n",
            "Requirement already satisfied: typing-extensions in /usr/local/lib/python3.7/dist-packages (from starlette==0.17.1->fastapi) (3.10.0.2)\n",
            "Requirement already satisfied: anyio<4,>=3.0.0 in /usr/local/lib/python3.7/dist-packages (from starlette==0.17.1->fastapi) (3.5.0)\n",
            "Requirement already satisfied: sniffio>=1.1 in /usr/local/lib/python3.7/dist-packages (from anyio<4,>=3.0.0->starlette==0.17.1->fastapi) (1.2.0)\n",
            "Requirement already satisfied: idna>=2.8 in /usr/local/lib/python3.7/dist-packages (from anyio<4,>=3.0.0->starlette==0.17.1->fastapi) (2.10)\n",
            "Requirement already satisfied: PyYAML in /usr/local/lib/python3.7/dist-packages (from pyngrok) (3.13)\n",
            "Requirement already satisfied: click>=7.0 in /usr/local/lib/python3.7/dist-packages (from uvicorn) (7.1.2)\n",
            "Requirement already satisfied: h11>=0.8 in /usr/local/lib/python3.7/dist-packages (from uvicorn) (0.13.0)\n",
            "Requirement already satisfied: asgiref>=3.4.0 in /usr/local/lib/python3.7/dist-packages (from uvicorn) (3.5.0)\n",
            "Requirement already satisfied: six>=1.4.0 in /usr/local/lib/python3.7/dist-packages (from python-multipart) (1.15.0)\n"
          ]
        }
      ],
      "source": [
        "!pip install fastapi nest-asyncio pyngrok uvicorn aiofiles python-multipart"
      ]
    },
    {
      "cell_type": "code",
      "source": [
        "from fastapi import FastAPI, Request, Form\n",
        "from fastapi.responses import HTMLResponse\n",
        "from fastapi.staticfiles import StaticFiles\n",
        "from fastapi.templating import Jinja2Templates\n",
        "import nest_asyncio\n",
        "from pyngrok import ngrok\n",
        "\n",
        "import uvicorn"
      ],
      "metadata": {
        "id": "_zFgnTjxkGLc"
      },
      "execution_count": 4,
      "outputs": []
    },
    {
      "cell_type": "markdown",
      "source": [
        "# 템플릿 폴더 생성\n",
        "- @app.get : index.html\n",
        "- @app.post : result_audio.html"
      ],
      "metadata": {
        "id": "_0rgDP0ntKAP"
      }
    },
    {
      "cell_type": "code",
      "source": [
        "%mkdir templates/"
      ],
      "metadata": {
        "id": "Ln3l9-2mkHDJ"
      },
      "execution_count": 3,
      "outputs": []
    },
    {
      "cell_type": "code",
      "source": [
        "%%writefile templates/index.html\n",
        "<!DOCTYPE html>\n",
        "<html>\n",
        "\t<body>\n",
        "\n",
        "<form action=\"/play\" method = 'post'>\n",
        "\n",
        "  <label for=\"fn\">Audio name:</label><br>\n",
        "  <input type=\"text\" id=\"fn\" name=\"fn\" value=\"1111.mp3\"><br>\n",
        "\n",
        "  <input type=\"submit\" value=\"Submit\">\n",
        "\n",
        "</form> \n",
        "\n",
        "\n",
        "\t</body>\n",
        "</html>"
      ],
      "metadata": {
        "colab": {
          "base_uri": "https://localhost:8080/"
        },
        "id": "HiGI9zbRkMqY",
        "outputId": "0ddf4dcd-9539-4bbc-965f-cf930127594f"
      },
      "execution_count": 3,
      "outputs": [
        {
          "output_type": "stream",
          "name": "stdout",
          "text": [
            "Overwriting templates/index.html\n"
          ]
        }
      ]
    },
    {
      "cell_type": "code",
      "source": [
        "%%writefile templates/result_audio.html\n",
        "\n",
        "<!DOCTYPE html>\n",
        "<html>\n",
        "<body>\n",
        "\n",
        "<h1>The audio autoplay attribute</h1>\n",
        "\n",
        "<p>Click on the play button to play a sound:</p>\n",
        "\n",
        "<audio controls autoplay>\n",
        "\n",
        "  <source src=\"{{ url_for('static', path = fn ) }}\" type=\"audio/mpeg\">\n",
        "  Your browser does not support the audio element.\n",
        "</audio>\n",
        "\n",
        "</body>\n",
        "</html>"
      ],
      "metadata": {
        "colab": {
          "base_uri": "https://localhost:8080/"
        },
        "id": "2oVPJkR2kU5Y",
        "outputId": "8bdda966-7456-4a42-89cf-b032174a9712"
      },
      "execution_count": 29,
      "outputs": [
        {
          "output_type": "stream",
          "name": "stdout",
          "text": [
            "Overwriting templates/result_audio.html\n"
          ]
        }
      ]
    },
    {
      "cell_type": "markdown",
      "source": [
        "# static 폴더 생성 (음성파일저장)\n",
        "- result_audio.html 페이지에서 실제 실행될 파일"
      ],
      "metadata": {
        "id": "mGs4cgW2tbbv"
      }
    },
    {
      "cell_type": "code",
      "source": [
        "%mkdir static/"
      ],
      "metadata": {
        "id": "cwulERYStI4q"
      },
      "execution_count": null,
      "outputs": []
    },
    {
      "cell_type": "markdown",
      "source": [
        "# FastAPI 코드"
      ],
      "metadata": {
        "id": "ajwa6vaMt0rE"
      }
    },
    {
      "cell_type": "code",
      "source": [
        "from fastapi.staticfiles import StaticFiles\n",
        "\n",
        "app=FastAPI()\n",
        "templates = Jinja2Templates(directory=\"templates\")\n",
        "app.mount('/static', StaticFiles(directory='static'), name='static')\n",
        "\n",
        "@app.get('/', response_class=HTMLResponse)\n",
        "async def get_topic(request: Request):\n",
        "\n",
        "  return templates.TemplateResponse(\"index.html\", {\"request\": request})\n",
        "\n",
        "\n",
        "@app.post('/play', response_class=HTMLResponse)\n",
        "async def post_play(request: Request, fn: str = Form(...)):\n",
        "\n",
        "  return templates.TemplateResponse(\"result_audio.html\", {\"request\": request, 'fn': fn })\n"
      ],
      "metadata": {
        "id": "fxJ05_CGkXfN"
      },
      "execution_count": 30,
      "outputs": []
    },
    {
      "cell_type": "code",
      "source": [
        "!ngrok authtoken 26P542M5d2txQcLcbZiAZnJa2Uv_ZWHtNDRbdXZKKnUuFqRQ"
      ],
      "metadata": {
        "colab": {
          "base_uri": "https://localhost:8080/"
        },
        "id": "XuISLPlrkaao",
        "outputId": "1ff1cb0c-3071-4400-fed0-b6c1f5f4c63a"
      },
      "execution_count": 18,
      "outputs": [
        {
          "output_type": "stream",
          "name": "stdout",
          "text": [
            "Authtoken saved to configuration file: /root/.ngrok2/ngrok.yml\n"
          ]
        }
      ]
    },
    {
      "cell_type": "code",
      "source": [
        "ngrok_tunnel = ngrok.connect(8000)\n",
        "print ('Public URL:', ngrok_tunnel.public_url) \n",
        "nest_asyncio.apply()\n",
        "uvicorn.run(app, host='0.0.0.0', port=8000)"
      ],
      "metadata": {
        "colab": {
          "base_uri": "https://localhost:8080/"
        },
        "id": "9jjRWePFkbzT",
        "outputId": "25a6a6d9-3ad3-4178-9009-8034f50c2dea"
      },
      "execution_count": 31,
      "outputs": [
        {
          "output_type": "stream",
          "name": "stdout",
          "text": [
            "Public URL: http://abc2-34-86-178-226.ngrok.io\n"
          ]
        },
        {
          "output_type": "stream",
          "name": "stderr",
          "text": [
            "INFO:     Started server process [462]\n",
            "INFO:     Waiting for application startup.\n",
            "INFO:     Application startup complete.\n",
            "INFO:     Uvicorn running on http://0.0.0.0:8000 (Press CTRL+C to quit)\n"
          ]
        },
        {
          "output_type": "stream",
          "name": "stdout",
          "text": [
            "INFO:     49.142.75.97:0 - \"GET / HTTP/1.1\" 200 OK\n",
            "INFO:     49.142.75.97:0 - \"GET /favicon.ico HTTP/1.1\" 404 Not Found\n",
            "INFO:     49.142.75.97:0 - \"POST /play HTTP/1.1\" 200 OK\n",
            "INFO:     49.142.75.97:0 - \"GET /1111.mp3 HTTP/1.1\" 200 OK\n",
            "INFO:     49.142.75.97:0 - \"GET /favicon.ico HTTP/1.1\" 404 Not Found\n"
          ]
        },
        {
          "output_type": "stream",
          "name": "stderr",
          "text": [
            "INFO:     Shutting down\n",
            "INFO:     Waiting for application shutdown.\n",
            "INFO:     Application shutdown complete.\n",
            "INFO:     Finished server process [462]\n"
          ]
        }
      ]
    },
    {
      "cell_type": "code",
      "source": [
        ""
      ],
      "metadata": {
        "id": "uTsLaD8okdFx"
      },
      "execution_count": null,
      "outputs": []
    }
  ]
}