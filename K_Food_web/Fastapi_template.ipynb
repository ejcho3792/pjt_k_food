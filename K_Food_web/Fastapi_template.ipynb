{
  "nbformat": 4,
  "nbformat_minor": 0,
  "metadata": {
    "colab": {
      "name": "fastapi_template.ipynb",
      "provenance": [],
      "collapsed_sections": []
    },
    "kernelspec": {
      "name": "python3",
      "display_name": "Python 3"
    },
    "language_info": {
      "name": "python"
    }
  },
  "cells": [
    {
      "cell_type": "code",
      "source": [
        "!pip install fastapi nest-asyncio pyngrok uvicorn aiofiles python-multipart"
      ],
      "metadata": {
        "colab": {
          "base_uri": "https://localhost:8080/"
        },
        "id": "WbVn8PBTvvgI",
        "outputId": "f6a5b9b9-628f-4d34-b8dc-de0e7e88c3b1"
      },
      "execution_count": 2,
      "outputs": [
        {
          "output_type": "stream",
          "name": "stdout",
          "text": [
            "Collecting fastapi\n",
            "  Downloading fastapi-0.75.0-py3-none-any.whl (54 kB)\n",
            "\u001b[?25l\r\u001b[K     |██████                          | 10 kB 23.9 MB/s eta 0:00:01\r\u001b[K     |████████████                    | 20 kB 29.0 MB/s eta 0:00:01\r\u001b[K     |██████████████████              | 30 kB 29.5 MB/s eta 0:00:01\r\u001b[K     |████████████████████████        | 40 kB 32.1 MB/s eta 0:00:01\r\u001b[K     |██████████████████████████████  | 51 kB 34.7 MB/s eta 0:00:01\r\u001b[K     |████████████████████████████████| 54 kB 2.7 MB/s \n",
            "\u001b[?25hRequirement already satisfied: nest-asyncio in /usr/local/lib/python3.7/dist-packages (1.5.4)\n",
            "Collecting pyngrok\n",
            "  Downloading pyngrok-5.1.0.tar.gz (745 kB)\n",
            "\u001b[K     |████████████████████████████████| 745 kB 45.7 MB/s \n",
            "\u001b[?25hCollecting uvicorn\n",
            "  Downloading uvicorn-0.17.6-py3-none-any.whl (53 kB)\n",
            "\u001b[K     |████████████████████████████████| 53 kB 2.0 MB/s \n",
            "\u001b[?25hCollecting aiofiles\n",
            "  Downloading aiofiles-0.8.0-py3-none-any.whl (13 kB)\n",
            "Collecting python-multipart\n",
            "  Downloading python-multipart-0.0.5.tar.gz (32 kB)\n",
            "Collecting starlette==0.17.1\n",
            "  Downloading starlette-0.17.1-py3-none-any.whl (58 kB)\n",
            "\u001b[K     |████████████████████████████████| 58 kB 6.0 MB/s \n",
            "\u001b[?25hCollecting pydantic!=1.7,!=1.7.1,!=1.7.2,!=1.7.3,!=1.8,!=1.8.1,<2.0.0,>=1.6.2\n",
            "  Downloading pydantic-1.9.0-cp37-cp37m-manylinux_2_17_x86_64.manylinux2014_x86_64.whl (10.9 MB)\n",
            "\u001b[K     |████████████████████████████████| 10.9 MB 46.6 MB/s \n",
            "\u001b[?25hCollecting anyio<4,>=3.0.0\n",
            "  Downloading anyio-3.5.0-py3-none-any.whl (79 kB)\n",
            "\u001b[K     |████████████████████████████████| 79 kB 8.2 MB/s \n",
            "\u001b[?25hRequirement already satisfied: typing-extensions in /usr/local/lib/python3.7/dist-packages (from starlette==0.17.1->fastapi) (3.10.0.2)\n",
            "Collecting sniffio>=1.1\n",
            "  Downloading sniffio-1.2.0-py3-none-any.whl (10 kB)\n",
            "Requirement already satisfied: idna>=2.8 in /usr/local/lib/python3.7/dist-packages (from anyio<4,>=3.0.0->starlette==0.17.1->fastapi) (2.10)\n",
            "Requirement already satisfied: PyYAML in /usr/local/lib/python3.7/dist-packages (from pyngrok) (3.13)\n",
            "Collecting h11>=0.8\n",
            "  Downloading h11-0.13.0-py3-none-any.whl (58 kB)\n",
            "\u001b[K     |████████████████████████████████| 58 kB 5.1 MB/s \n",
            "\u001b[?25hCollecting asgiref>=3.4.0\n",
            "  Downloading asgiref-3.5.0-py3-none-any.whl (22 kB)\n",
            "Requirement already satisfied: click>=7.0 in /usr/local/lib/python3.7/dist-packages (from uvicorn) (7.1.2)\n",
            "Requirement already satisfied: six>=1.4.0 in /usr/local/lib/python3.7/dist-packages (from python-multipart) (1.15.0)\n",
            "Building wheels for collected packages: pyngrok, python-multipart\n",
            "  Building wheel for pyngrok (setup.py) ... \u001b[?25l\u001b[?25hdone\n",
            "  Created wheel for pyngrok: filename=pyngrok-5.1.0-py3-none-any.whl size=19007 sha256=c5f169fe3abab9004eb1d4748ed20c1d76abc2bb294dc989adef93bd4a4ccdbd\n",
            "  Stored in directory: /root/.cache/pip/wheels/bf/e6/af/ccf6598ecefecd44104069371795cb9b3afbcd16987f6ccfb3\n",
            "  Building wheel for python-multipart (setup.py) ... \u001b[?25l\u001b[?25hdone\n",
            "  Created wheel for python-multipart: filename=python_multipart-0.0.5-py3-none-any.whl size=31678 sha256=6411e0f4afe4f4bc9fd2527e5d7f50d258e4d472124e88f59dfa9f47cde4bfcd\n",
            "  Stored in directory: /root/.cache/pip/wheels/2c/41/7c/bfd1c180534ffdcc0972f78c5758f89881602175d48a8bcd2c\n",
            "Successfully built pyngrok python-multipart\n",
            "Installing collected packages: sniffio, anyio, starlette, pydantic, h11, asgiref, uvicorn, python-multipart, pyngrok, fastapi, aiofiles\n",
            "Successfully installed aiofiles-0.8.0 anyio-3.5.0 asgiref-3.5.0 fastapi-0.75.0 h11-0.13.0 pydantic-1.9.0 pyngrok-5.1.0 python-multipart-0.0.5 sniffio-1.2.0 starlette-0.17.1 uvicorn-0.17.6\n"
          ]
        }
      ]
    },
    {
      "cell_type": "code",
      "execution_count": 17,
      "metadata": {
        "id": "KD6Kg9xqvS27"
      },
      "outputs": [],
      "source": [
        "from fastapi import FastAPI, Request, Form\n",
        "from fastapi.responses import HTMLResponse\n",
        "from fastapi.staticfiles import StaticFiles\n",
        "from fastapi.templating import Jinja2Templates\n",
        "import nest_asyncio\n",
        "from pyngrok import ngrok\n",
        "\n",
        "import uvicorn"
      ]
    },
    {
      "cell_type": "code",
      "source": [
        "%%writefile templates/input.html\n",
        "<!DOCTYPE html>\n",
        "<html>\n",
        "<body>\n",
        "\n",
        "<h2>HTML Forms</h2>\n",
        "\n",
        "<form action=\"/topic\">\n",
        "  <label for=\"fname\">First name:</label><br>\n",
        "  <input type=\"text\" id=\"fname\" name=\"fname\" value=\"John\"><br>\n",
        "  <label for=\"lname\">Last name:</label><br>\n",
        "  <input type=\"text\" id=\"lname\" name=\"lname\" value=\"Doe\"><br><br>\n",
        "  <input type=\"submit\" value=\"Submit\">\n",
        "</form> \n",
        "\n",
        "<p>If you click the \"Submit\" button, the form-data will be sent to a page called \"/action_page.php\".</p>\n",
        "\n",
        "</body>\n",
        "</html>\n"
      ],
      "metadata": {
        "colab": {
          "base_uri": "https://localhost:8080/"
        },
        "id": "Mr4-CzWHvuLY",
        "outputId": "3af1e820-a3dd-4926-85dd-f88a352609b3"
      },
      "execution_count": 5,
      "outputs": [
        {
          "output_type": "stream",
          "name": "stdout",
          "text": [
            "Overwriting templates/input.html\n"
          ]
        }
      ]
    },
    {
      "cell_type": "code",
      "source": [
        "%%writefile templates/result.html\n",
        "<html>\n",
        "<head>\n",
        "<title>Topics</title>\n",
        "</head>\n",
        "<body>\n",
        "    <h1>Userinfo: {{ lname }} {{ fname }}</h1>\n",
        "</body>\n",
        "</html>"
      ],
      "metadata": {
        "colab": {
          "base_uri": "https://localhost:8080/"
        },
        "id": "60XAOgHBzavT",
        "outputId": "35163009-65ef-413c-bd3d-f95460010ba4"
      },
      "execution_count": 20,
      "outputs": [
        {
          "output_type": "stream",
          "name": "stdout",
          "text": [
            "Writing templates/result.html\n"
          ]
        }
      ]
    },
    {
      "cell_type": "code",
      "source": [
        "app=FastAPI()\n",
        "templates = Jinja2Templates(directory=\"templates\")\n",
        "\n",
        "@app.get('/', response_class=HTMLResponse)\n",
        "async def read_topic(request: Request):\n",
        "  return templates.TemplateResponse(\"input.html\", {\"request\": request})\n",
        "\n",
        "@app.post('/topic', response_class=HTMLResponse)\n",
        "async def get_topic(request: Request, fname: str = Form(...), lname: str = Form(...)):\n",
        "  print (fname)\n",
        "  print (lname)\n",
        "\n",
        "  return templates.TemplateResponse(\"result.html\", {\"request\": request, 'fname': fname, 'lname':lname})\n"
      ],
      "metadata": {
        "id": "qtiaTV3DvuTB"
      },
      "execution_count": 23,
      "outputs": []
    },
    {
      "cell_type": "code",
      "source": [
        "!ngrok authtoken "
      ],
      "metadata": {
        "colab": {
          "base_uri": "https://localhost:8080/"
        },
        "id": "Xai-ntaMxtYP",
        "outputId": "e2b9c645-fc33-4b41-bace-4555da91e4b3"
      },
      "execution_count": 11,
      "outputs": [
        {
          "output_type": "stream",
          "name": "stdout",
          "text": [
            "Authtoken saved to configuration file: /root/.ngrok2/ngrok.yml\n"
          ]
        }
      ]
    },
    {
      "cell_type": "code",
      "source": [
        "ngrok_tunnel = ngrok.connect(8000)\n",
        "print ('Public URL:', ngrok_tunnel.public_url) \n",
        "nest_asyncio.apply()\n",
        "uvicorn.run(app, host='0.0.0.0', port=8000)"
      ],
      "metadata": {
        "colab": {
          "base_uri": "https://localhost:8080/"
        },
        "id": "rNsYG9x9vuV-",
        "outputId": "7a1d7ab1-c0b8-4aa3-da66-34540d661600"
      },
      "execution_count": 25,
      "outputs": [
        {
          "output_type": "stream",
          "name": "stdout",
          "text": [
            "Public URL: http://0512-35-245-63-240.ngrok.io\n"
          ]
        },
        {
          "output_type": "stream",
          "name": "stderr",
          "text": [
            "INFO:     Started server process [62]\n",
            "INFO:     Waiting for application startup.\n",
            "INFO:     Application startup complete.\n",
            "INFO:     Uvicorn running on http://0.0.0.0:8000 (Press CTRL+C to quit)\n"
          ]
        },
        {
          "output_type": "stream",
          "name": "stdout",
          "text": [
            "INFO:     121.134.206.53:0 - \"GET / HTTP/1.1\" 200 OK\n",
            "INFO:     121.134.206.53:0 - \"GET /favicon.ico HTTP/1.1\" 404 Not Found\n",
            "Foo\n",
            "Bar\n",
            "INFO:     121.134.206.53:0 - \"POST /topic HTTP/1.1\" 200 OK\n"
          ]
        },
        {
          "output_type": "stream",
          "name": "stderr",
          "text": [
            "INFO:     Shutting down\n",
            "INFO:     Waiting for application shutdown.\n",
            "INFO:     Application shutdown complete.\n",
            "INFO:     Finished server process [62]\n"
          ]
        }
      ]
    },
    {
      "cell_type": "code",
      "source": [
        ""
      ],
      "metadata": {
        "id": "ZSNIVFh4vuY2"
      },
      "execution_count": null,
      "outputs": []
    },
    {
      "cell_type": "code",
      "source": [
        ""
      ],
      "metadata": {
        "id": "4umpiluRvuyN"
      },
      "execution_count": null,
      "outputs": []
    }
  ]
}