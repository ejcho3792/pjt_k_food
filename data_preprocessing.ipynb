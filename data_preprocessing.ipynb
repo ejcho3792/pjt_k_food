{
 "cells": [
  {
   "cell_type": "markdown",
   "id": "946d0a5e",
   "metadata": {},
   "source": [
    "# 데이터셋 분리 ( train, test 셋)"
   ]
  },
  {
   "cell_type": "code",
   "execution_count": null,
   "id": "ef9477a1",
   "metadata": {},
   "outputs": [],
   "source": [
    "import os\n",
    "import pandas as pd\n",
    "\n",
    "new_rt='D:\\\\빅데이터기반지능형서비스개발\\\\06ai서비스개발pjt\\\\data\\\\'\n",
    "\n",
    "classes = os.listdir(new_rt)\n"
   ]
  },
  {
   "cell_type": "code",
   "execution_count": null,
   "id": "b68058bb",
   "metadata": {},
   "outputs": [],
   "source": [
    "!pip install split-folders"
   ]
  },
  {
   "cell_type": "code",
   "execution_count": null,
   "id": "d27d2e85",
   "metadata": {},
   "outputs": [],
   "source": [
    "import splitfolders\n",
    "\n",
    "out_dir='D:\\\\빅데이터기반지능형서비스개발\\\\06ai서비스개발pjt\\\\data_split\\\\'\n",
    "splitfolders.ratio(new_rt,output=out_dir,ratio=(.8,.2))\n",
    "\n",
    "# 실행하게 되면 outdir에 train, val 폴더가 생성되고, 각 폴더속에 클래스 별 사진들이 랜덤으로 나뉩니다.\n",
    "# 저희는 train, val이 아닌 train, test 셋만  일단 구분하기 위해서 val 폴더 이름을 test로 변경 필요합니다.\n"
   ]
  },
  {
   "cell_type": "markdown",
   "id": "9e4b7e09",
   "metadata": {},
   "source": [
    "# Data preprocessing"
   ]
  },
  {
   "cell_type": "code",
   "execution_count": null,
   "id": "a6c02d52",
   "metadata": {},
   "outputs": [],
   "source": []
  },
  {
   "cell_type": "code",
   "execution_count": null,
   "id": "68e3daaf",
   "metadata": {},
   "outputs": [],
   "source": []
  },
  {
   "cell_type": "code",
   "execution_count": null,
   "id": "95097537",
   "metadata": {},
   "outputs": [],
   "source": []
  },
  {
   "cell_type": "code",
   "execution_count": null,
   "id": "cf250d10",
   "metadata": {},
   "outputs": [],
   "source": []
  },
  {
   "cell_type": "code",
   "execution_count": null,
   "id": "7b09e760",
   "metadata": {},
   "outputs": [],
   "source": []
  },
  {
   "cell_type": "code",
   "execution_count": null,
   "id": "dad062f7",
   "metadata": {},
   "outputs": [],
   "source": []
  },
  {
   "cell_type": "code",
   "execution_count": null,
   "id": "ebda8fbe",
   "metadata": {},
   "outputs": [],
   "source": []
  }
 ],
 "metadata": {
  "kernelspec": {
   "display_name": "Python 3 (ipykernel)",
   "language": "python",
   "name": "python3"
  },
  "language_info": {
   "codemirror_mode": {
    "name": "ipython",
    "version": 3
   },
   "file_extension": ".py",
   "mimetype": "text/x-python",
   "name": "python",
   "nbconvert_exporter": "python",
   "pygments_lexer": "ipython3",
   "version": "3.8.12"
  }
 },
 "nbformat": 4,
 "nbformat_minor": 5
}
