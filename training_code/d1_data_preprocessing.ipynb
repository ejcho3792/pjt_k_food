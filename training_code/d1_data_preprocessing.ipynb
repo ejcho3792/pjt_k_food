{
 "cells": [
  {
   "cell_type": "markdown",
   "id": "1fa15070",
   "metadata": {},
   "source": [
    "# 데이터셋 분리 ( train,val,test 셋)"
   ]
  },
  {
   "cell_type": "code",
   "execution_count": null,
   "id": "2d47315f",
   "metadata": {
    "scrolled": true
   },
   "outputs": [],
   "source": [
    "import os\n",
    "import pandas as pd\n",
    "\n",
    "new_rt='D:\\\\빅데이터기반지능형서비스개발\\\\06ai서비스개발pjt\\\\data\\\\'\n",
    "\n",
    "classes = os.listdir(new_rt)\n",
    "classes"
   ]
  },
  {
   "cell_type": "code",
   "execution_count": null,
   "id": "cc025daf",
   "metadata": {},
   "outputs": [],
   "source": [
    "!pip install split-folders"
   ]
  },
  {
   "cell_type": "code",
   "execution_count": null,
   "id": "abdf191b",
   "metadata": {},
   "outputs": [],
   "source": [
    "# train, test 분리\n",
    "import splitfolders\n",
    "\n",
    "out_dir='D:\\\\빅데이터기반지능형서비스개발\\\\06ai서비스개발pjt\\\\data_split\\\\'\n",
    "splitfolders.ratio(new_rt,output=out_dir,ratio=(.8,.2))\n",
    "\n",
    "# 실행하게 되면 outdir에 train, val 폴더가 생성되고, 각 폴더속에 클래스 별 사진들이 랜덤으로 나뉩니다.\n",
    "# 저희는 train, val이 아닌 train, test 셋만  일단 구분하기 위해서 val 폴더 이름을 test로 변경 필요합니다.\n"
   ]
  },
  {
   "cell_type": "code",
   "execution_count": null,
   "id": "a31f60e9",
   "metadata": {
    "scrolled": true
   },
   "outputs": [],
   "source": [
    "# train data 안에서 train, val 분리\n",
    "import splitfolders\n",
    "\n",
    "new_rt='D:\\\\빅데이터기반지능형서비스개발\\\\06ai서비스개발pjt\\\\data_split\\\\train_r'\n",
    "out_dir='D:\\\\빅데이터기반지능형서비스개발\\\\06ai서비스개발pjt\\\\data_split\\\\'\n",
    "splitfolders.ratio(new_rt,output=out_dir,ratio=(.8,.2))"
   ]
  },
  {
   "cell_type": "markdown",
   "id": "7ebbf5a7",
   "metadata": {},
   "source": [
    "# Data preprocessing"
   ]
  },
  {
   "cell_type": "markdown",
   "id": "85636a6e",
   "metadata": {},
   "source": [
    "#### 224 *224,  "
   ]
  },
  {
   "cell_type": "code",
   "execution_count": null,
   "id": "8c500237",
   "metadata": {},
   "outputs": [],
   "source": [
    "# rgba 4채널 찾기\n",
    "\n",
    "import PIL.Image\n",
    "import os\n",
    "import numpy as np\n",
    "basedir='D:\\\\빅데이터기반지능형서비스개발\\\\06ai서비스개발pjt\\\\data_split\\\\'"
   ]
  },
  {
   "cell_type": "code",
   "execution_count": null,
   "id": "91126fb5",
   "metadata": {
    "scrolled": true
   },
   "outputs": [],
   "source": [
    "for i in range(len(os.listdir(basedir+'train'))):\n",
    "    \n",
    "    nms=os.listdir(basedir+'train\\\\'+os.listdir(basedir+'train')[i])\n",
    "    nms=[file for file in nms if file.endswith('.jpg')]\n",
    "    for j in range(len(nms)):\n",
    "        rgba=PIL.Image.open(basedir+'train\\\\'+os.listdir(basedir+'train')[i]+'\\\\'+nms[j])\n",
    "        \n",
    "        if np.shape(rgba)[-1]==4:\n",
    "            rgb_image = rgba.convert('RGB')\n",
    "            rgb_image.save(basedir+'train\\\\'+os.listdir(basedir+'train')[i]+'\\\\'+nms[j])\n",
    "            print(basedir+'train\\\\'+os.listdir(basedir+'train')[i]+'\\\\'+nms[j])\n",
    "            "
   ]
  },
  {
   "cell_type": "code",
   "execution_count": null,
   "id": "7f1cf2b2",
   "metadata": {
    "scrolled": true
   },
   "outputs": [],
   "source": [
    "for i in range(len(os.listdir(basedir+'val'))):\n",
    "    \n",
    "    nms=os.listdir(basedir+'val\\\\'+os.listdir(basedir+'val')[i])\n",
    "    nms=[file for file in nms if file.endswith('.jpg')]\n",
    "    for j in range(len(nms)):\n",
    "        rgba=PIL.Image.open(basedir+'val\\\\'+os.listdir(basedir+'val')[i]+'\\\\'+nms[j])\n",
    "        \n",
    "        if np.shape(rgba)[-1]==4:\n",
    "            rgb_image = rgba.convert('RGB')\n",
    "            rgb_image.save(basedir+'val\\\\'+os.listdir(basedir+'val')[i]+'\\\\'+nms[j])\n",
    "            print('cnt')"
   ]
  },
  {
   "cell_type": "code",
   "execution_count": null,
   "id": "17b69d94",
   "metadata": {
    "scrolled": true
   },
   "outputs": [],
   "source": [
    "for i in range(len(os.listdir(basedir+'test'))):\n",
    "    \n",
    "    nms=os.listdir(basedir+'test\\\\'+os.listdir(basedir+'test')[i])\n",
    "    nms=[file for file in nms if file.endswith('.jpg')]\n",
    "    for j in range(len(nms)):\n",
    "        rgba=PIL.Image.open(basedir+'test\\\\'+os.listdir(basedir+'test')[i]+'\\\\'+nms[j])\n",
    "        \n",
    "        if np.shape(rgba)[-1]==4:\n",
    "            rgb_image = rgba.convert('RGB')\n",
    "            rgb_image.save(basedir+'test\\\\'+os.listdir(basedir+'test')[i]+'\\\\'+nms[j])\n",
    "            print('cnt')"
   ]
  },
  {
   "cell_type": "code",
   "execution_count": null,
   "id": "de68f0ad",
   "metadata": {
    "scrolled": true
   },
   "outputs": [],
   "source": [
    "# rgba png 찾기\n",
    "\n",
    "import PIL.Image\n",
    "import os\n",
    "import numpy as np\n",
    "basedir='D:\\\\빅데이터기반지능형서비스개발\\\\06ai서비스개발pjt\\\\data_split\\\\'\n",
    "\n",
    "d='test'\n",
    "for i in range(len(os.listdir(basedir+d))):\n",
    "    \n",
    "    nms=os.listdir(basedir+d+'\\\\'+os.listdir(basedir+d)[i])\n",
    "    nms=[file for file in nms if file.endswith('.png')]\n",
    "    for j in range(len(nms)):\n",
    "        rgba=PIL.Image.open(basedir+d+'\\\\'+os.listdir(basedir+d)[i]+'\\\\'+nms[j])\n",
    "        \n",
    "        if np.shape(rgba)[-1]==4:\n",
    "            rgb_image = rgba.convert('RGB')\n",
    "            rgb_image.save(basedir+d+'\\\\'+os.listdir(basedir+d)[i]+'\\\\'+nms[j])\n",
    "            print(basedir+d+'\\\\'+os.listdir(basedir+d)[i]+'\\\\'+nms[j])\n",
    "            "
   ]
  },
  {
   "cell_type": "code",
   "execution_count": null,
   "id": "3939dc18",
   "metadata": {},
   "outputs": [],
   "source": [
    "# gif 찾기\n",
    "\n",
    "import PIL.Image\n",
    "import os\n",
    "import numpy as np\n",
    "basedir='D:\\\\빅데이터기반지능형서비스개발\\\\06ai서비스개발pjt\\\\data_split\\\\'\n",
    "\n",
    "d='val'\n",
    "for i in range(len(os.listdir(basedir+d))):\n",
    "    \n",
    "    nms=os.listdir(basedir+d+'\\\\'+os.listdir(basedir+d)[i])\n",
    "    nms=[file for file in nms if file.endswith('.gif')]\n",
    "    for j in range(len(nms)):\n",
    "        rgba=PIL.Image.open(basedir+d+'\\\\'+os.listdir(basedir+d)[i]+'\\\\'+nms[j])\n",
    "        \n",
    "        if np.shape(rgba)[-1]==4:\n",
    "            rgb_image = rgba.convert('RGB')\n",
    "            rgb_image.save(basedir+d+'\\\\'+os.listdir(basedir+d)[i]+'\\\\'+nms[j])\n",
    "            print(basedir+d+'\\\\'+os.listdir(basedir+d)[i]+'\\\\'+nms[j])\n",
    "            break"
   ]
  },
  {
   "cell_type": "code",
   "execution_count": null,
   "id": "d4ae4195",
   "metadata": {},
   "outputs": [],
   "source": [
    "# csv, properties 파일 제거\n",
    "d='train'\n",
    "for i in range(len(os.listdir(basedir+d))):\n",
    "    \n",
    "    nms=os.listdir(basedir+d+'\\\\'+os.listdir(basedir+d)[i])\n",
    "    nms1=[file for file in nms if file.endswith('.csv')]\n",
    "    nms2=[file for file in nms if file.endswith('.properties')]\n",
    "    if nms1!=[]:\n",
    "        os.remove(basedir+d+'\\\\'+os.listdir(basedir+d)[i]+'\\\\'+nms1[0])\n",
    "    if nms2!=[]:\n",
    "        os.remove(basedir+d+'\\\\'+os.listdir(basedir+d)[i]+'\\\\'+nms2[0])"
   ]
  },
  {
   "cell_type": "code",
   "execution_count": null,
   "id": "64909e04",
   "metadata": {},
   "outputs": [],
   "source": [
    "import numpy as np\n",
    "d='train'\n",
    "for i in range(len(os.listdir(basedir+d))):\n",
    "    \n",
    "    nms=os.listdir(basedir+d+'\\\\'+os.listdir(basedir+d)[i])\n",
    "    for j in range(len(nms)):\n",
    "        \n",
    "        nms[j]=nms[j][-4:]\n",
    "    print(os.listdir(basedir+d)[i],np.unique(nms))\n"
   ]
  },
  {
   "cell_type": "code",
   "execution_count": null,
   "id": "ab3d80ab",
   "metadata": {},
   "outputs": [],
   "source": []
  }
 ],
 "metadata": {
  "kernelspec": {
   "display_name": "Python 3 (ipykernel)",
   "language": "python",
   "name": "python3"
  },
  "language_info": {
   "codemirror_mode": {
    "name": "ipython",
    "version": 3
   },
   "file_extension": ".py",
   "mimetype": "text/x-python",
   "name": "python",
   "nbconvert_exporter": "python",
   "pygments_lexer": "ipython3",
   "version": "3.7.11"
  }
 },
 "nbformat": 4,
 "nbformat_minor": 5
}
