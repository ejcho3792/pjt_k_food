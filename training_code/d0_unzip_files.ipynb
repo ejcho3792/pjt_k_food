{
 "cells": [
  {
   "cell_type": "code",
   "execution_count": null,
   "id": "7be17f53",
   "metadata": {},
   "outputs": [],
   "source": [
    "# 전체 파일 zip 만 풀어둔 이후 진행. 큰폴더 이름 datasets로 변경"
   ]
  },
  {
   "cell_type": "code",
   "execution_count": null,
   "id": "51aef7ac",
   "metadata": {},
   "outputs": [],
   "source": [
    "# 중단위 클래스(27개 항목) 압축 풀고 압축 파일은  삭제하는 과정\n",
    "import os\n",
    "import zipfile\n",
    "# 폴더 경로 바꿀 것\n",
    "file_rt='D:\\\\빅데이터기반지능형서비스개발\\\\06ai서비스개발pjt\\\\datasets\\\\'\n",
    "classes=os.listdir(file_rt)\n",
    "\n",
    "for i in range(len(classes)):\n",
    "    tmp_rt=file_rt+classes[i]\n",
    "    d_zip=zipfile.ZipFile(tmp_rt,'r')\n",
    "    d_zip.extractall(file_rt)\n",
    "    \n",
    "d_zip.close()\n",
    "\n",
    "import glob\n",
    "[os.remove(f) for f in glob.glob(file_rt+'*.zip')]"
   ]
  },
  {
   "cell_type": "code",
   "execution_count": null,
   "id": "d6c610ec",
   "metadata": {},
   "outputs": [],
   "source": [
    "# 한단계 밖으로 꺼내기 (각 소단위 클래스로만 이루어지도록)\n",
    "os.makedirs(new_rt, exist_ok=True)\n",
    "\n",
    "classes=os.listdir(file_rt)\n",
    "for i in range(len(classes)):\n",
    "\n",
    "    tmp_rt=file_rt+classes[i]\n",
    "    get_files = os.listdir(tmp_rt)\n",
    "    \n",
    "    for g in get_files:\n",
    "        os.replace(tmp_rt+'/' + g, new_rt + g)\n",
    "    os.rmdir(tmp_rt)   "
   ]
  }
 ],
 "metadata": {
  "kernelspec": {
   "display_name": "Python 3 (ipykernel)",
   "language": "python",
   "name": "python3"
  },
  "language_info": {
   "codemirror_mode": {
    "name": "ipython",
    "version": 3
   },
   "file_extension": ".py",
   "mimetype": "text/x-python",
   "name": "python",
   "nbconvert_exporter": "python",
   "pygments_lexer": "ipython3",
   "version": "3.8.12"
  }
 },
 "nbformat": 4,
 "nbformat_minor": 5
}
