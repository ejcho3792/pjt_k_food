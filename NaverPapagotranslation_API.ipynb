{
  "nbformat": 4,
  "nbformat_minor": 0,
  "metadata": {
    "colab": {
      "name": "네이버클로바서비스 API.ipynb",
      "provenance": []
    },
    "kernelspec": {
      "name": "python3",
      "display_name": "Python 3"
    },
    "language_info": {
      "name": "python"
    }
  },
  "cells": [
    {
      "cell_type": "code",
      "execution_count": 4,
      "metadata": {
        "id": "EqXE2Gm0qBjO"
      },
      "outputs": [],
      "source": [
        "\n",
        "import requests\n",
        "import json\n",
        "import os\n",
        "import sys\n",
        "import urllib.request"
      ]
    },
    {
      "cell_type": "markdown",
      "source": [
        "## 네이버 Papago Text Translation API\n",
        "\n"
      ],
      "metadata": {
        "id": "8d3ak85HsOyA"
      }
    },
    {
      "cell_type": "code",
      "source": [
        "\n",
        "client_id = \"00000\"\n",
        "client_secret = \"0000000\"\n",
        "\n",
        "# lang = ko, ja, en, zh-CN, zh-TW, vi, th, es, fr, id, ru, de, it\n",
        "\n",
        "lang = \"it\"\n",
        "encText = urllib.parse.quote(\"잡채는 야채와 쇠고기를 따로 볶은 후 맑은 국수, 간장, 그리고 다른 양념과 섞는다. 가장 인기 있는 파티 요리 중 하나인 이 요리는 특별한 연회에서 자주 볼 수 있습니다\")\n",
        "data = \"source=ko&target={}&text=\".format(lang) + encText\n",
        "url = \"https://naveropenapi.apigw.ntruss.com/nmt/v1/translation\"\n",
        "\n",
        "request = urllib.request.Request(url)\n",
        "request.add_header(\"X-NCP-APIGW-API-KEY-ID\",client_id)\n",
        "request.add_header(\"X-NCP-APIGW-API-KEY\",client_secret)\n",
        "response = urllib.request.urlopen(request, data=data.encode(\"utf-8\"))\n",
        "rescode = response.getcode()\n",
        "\n",
        "\n",
        "if(rescode==200):\n",
        "    response_body = response.read()\n",
        "    response_encod = response_body.decode('utf-8')\n",
        "    dict = json.loads(response_encod )\n",
        "    mesge = dict['message']\n",
        "    print(mesge['result']['translatedText'])\n",
        "\n",
        "else:\n",
        "    print(\"Error Code:\" + rescode)\n"
      ],
      "metadata": {
        "colab": {
          "base_uri": "https://localhost:8080/"
        },
        "id": "hfh-uiBbrrtV",
        "outputId": "ac1ec8e4-d701-4eba-b984-ae32851532d9"
      },
      "execution_count": 65,
      "outputs": [
        {
          "output_type": "stream",
          "name": "stdout",
          "text": [
            "Friggere separatamente le verdure e la carne di manzo e mescolare con tagliatelle chiare, salsa di soia e altre spezie. Uno dei piatti più popolari della festa, che si trova spesso nei banchetti speciali.\n"
          ]
        }
      ]
    },
    {
      "cell_type": "markdown",
      "source": [
        "## 네이버 음성합성 Open API "
      ],
      "metadata": {
        "id": "LbYJskWaxx0q"
      }
    },
    {
      "cell_type": "code",
      "source": [
        "\n",
        "client_id = \"YOUR_CLIENT_ID\"\n",
        "client_secret = \"YOUR_CLIENT_SECRET\"\n",
        "encText = urllib.parse.quote(\"반갑습니다 네이버\")\n",
        "data = \"speaker=nara&volume=0&speed=0&pitch=0&format=mp3&text=\" + encText;\n",
        "url = \"https://naveropenapi.apigw.ntruss.com/tts-premium/v1/tts\"\n",
        "request = urllib.request.Request(url)\n",
        "request.add_header(\"X-NCP-APIGW-API-KEY-ID\",client_id)\n",
        "request.add_header(\"X-NCP-APIGW-API-KEY\",client_secret)\n",
        "response = urllib.request.urlopen(request, data=data.encode('utf-8'))\n",
        "rescode = response.getcode()\n",
        "if(rescode==200):\n",
        "    print(\"TTS mp3 저장\")\n",
        "    response_body = response.read()\n",
        "    with open('1111.mp3', 'wb') as f:\n",
        "        f.write(response_body)\n",
        "else:\n",
        "    print(\"Error Code:\" + rescode)"
      ],
      "metadata": {
        "id": "O8niQWlhxwrd"
      },
      "execution_count": null,
      "outputs": []
    }
  ]
}